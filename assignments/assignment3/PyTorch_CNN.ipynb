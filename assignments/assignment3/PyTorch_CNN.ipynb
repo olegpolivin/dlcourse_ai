{
 "cells": [
  {
   "cell_type": "markdown",
   "metadata": {},
   "source": [
    "# Задание 3.2 - сверточные нейронные сети (CNNs) в PyTorch\n",
    "\n",
    "Это упражнение мы буде выполнять в Google Colab - https://colab.research.google.com/  \n",
    "Google Colab позволяет запускать код в notebook в облаке Google, где можно воспользоваться бесплатным GPU!  \n",
    "\n",
    "Авторы курса благодарят компанию Google и надеятся, что праздник не закончится.\n",
    "\n",
    "Туториал по настройке Google Colab:  \n",
    "https://medium.com/deep-learning-turkey/google-colab-free-gpu-tutorial-e113627b9f5d  \n",
    "(Keras инсталлировать не нужно, наш notebook сам установит PyTorch)\n"
   ]
  },
  {
   "cell_type": "code",
   "execution_count": 1,
   "metadata": {
    "colab": {},
    "colab_type": "code",
    "id": "FcXBeP1O7cnY"
   },
   "outputs": [
    {
     "name": "stdout",
     "output_type": "stream",
     "text": [
      "--2020-03-27 19:01:33--  http://ufldl.stanford.edu/housenumbers/train_32x32.mat\n",
      "Resolving ufldl.stanford.edu (ufldl.stanford.edu)... 171.64.68.10\n",
      "Connecting to ufldl.stanford.edu (ufldl.stanford.edu)|171.64.68.10|:80... connected.\n",
      "HTTP request sent, awaiting response... 416 Requested Range Not Satisfiable\n",
      "\n",
      "    The file is already fully retrieved; nothing to do.\n",
      "\n",
      "--2020-03-27 19:01:33--  http://ufldl.stanford.edu/housenumbers/test_32x32.mat\n",
      "Reusing existing connection to ufldl.stanford.edu:80.\n",
      "HTTP request sent, awaiting response... 416 Requested Range Not Satisfiable\n",
      "\n",
      "    The file is already fully retrieved; nothing to do.\n",
      "\n"
     ]
    }
   ],
   "source": [
    "# # Intstall PyTorch and download data\n",
    "# !pip3 install torch torchvision\n",
    "\n",
    "!wget -c http://ufldl.stanford.edu/housenumbers/train_32x32.mat http://ufldl.stanford.edu/housenumbers/test_32x32.mat"
   ]
  },
  {
   "cell_type": "code",
   "execution_count": 2,
   "metadata": {
    "colab": {},
    "colab_type": "code",
    "id": "-afwWw-Q85vD"
   },
   "outputs": [],
   "source": [
    "from collections import namedtuple\n",
    "\n",
    "import matplotlib.pyplot as plt\n",
    "import numpy as np\n",
    "import PIL\n",
    "import torch\n",
    "import torch.nn as nn\n",
    "import torch.optim as optim\n",
    "import torchvision.datasets as dset\n",
    "from torch.utils.data.sampler import SubsetRandomSampler\n",
    "\n",
    "from torchvision import transforms\n",
    "\n",
    "import itertools"
   ]
  },
  {
   "cell_type": "code",
   "execution_count": 3,
   "metadata": {
    "colab": {},
    "colab_type": "code",
    "id": "NNU-OD9O9ltP"
   },
   "outputs": [],
   "source": [
    "device = torch.device(\"cuda:0\") # Let's make sure GPU is available!"
   ]
  },
  {
   "cell_type": "markdown",
   "metadata": {},
   "source": [
    "# Загружаем данные"
   ]
  },
  {
   "cell_type": "code",
   "execution_count": 4,
   "metadata": {
    "colab": {},
    "colab_type": "code",
    "id": "YAvkoRx-9FsP"
   },
   "outputs": [],
   "source": [
    "# First, lets load the dataset\n",
    "data_train = dset.SVHN('./', \n",
    "                       transform=transforms.Compose([\n",
    "                           transforms.ToTensor(),\n",
    "                           transforms.Normalize(mean=[0.43,0.44,0.47],\n",
    "                                               std=[0.20,0.20,0.20])                           \n",
    "                       ])\n",
    "                      )\n",
    "data_test = dset.SVHN('./', split='test', transform=transforms.Compose([\n",
    "                           transforms.ToTensor(),\n",
    "                           transforms.Normalize(mean=[0.43,0.44,0.47],\n",
    "                                               std=[0.20,0.20,0.20])                           \n",
    "                       ]))"
   ]
  },
  {
   "cell_type": "markdown",
   "metadata": {},
   "source": [
    "Разделяем данные на training и validation.\n",
    "\n",
    "На всякий случай для подробностей - https://pytorch.org/tutorials/beginner/data_loading_tutorial.html"
   ]
  },
  {
   "cell_type": "code",
   "execution_count": 5,
   "metadata": {
    "colab": {},
    "colab_type": "code",
    "id": "YRnr8CPg7Hli"
   },
   "outputs": [],
   "source": [
    "batch_size = 64\n",
    "\n",
    "data_size = data_train.data.shape[0]\n",
    "validation_split = .2\n",
    "split = int(np.floor(validation_split * data_size))\n",
    "indices = list(range(data_size))\n",
    "np.random.shuffle(indices)\n",
    "\n",
    "train_indices, val_indices = indices[split:], indices[:split]\n",
    "\n",
    "train_sampler = SubsetRandomSampler(train_indices)\n",
    "val_sampler = SubsetRandomSampler(val_indices)\n",
    "\n",
    "train_loader = torch.utils.data.DataLoader(data_train, batch_size=batch_size, \n",
    "                                           sampler=train_sampler)\n",
    "val_loader = torch.utils.data.DataLoader(data_train, batch_size=batch_size,\n",
    "                                         sampler=val_sampler)"
   ]
  },
  {
   "cell_type": "code",
   "execution_count": 6,
   "metadata": {
    "colab": {},
    "colab_type": "code",
    "id": "LyYvt-T67PBG"
   },
   "outputs": [],
   "source": [
    "# We'll use a special helper module to shape it into a flat tensor\n",
    "class Flattener(nn.Module):\n",
    "    def forward(self, x):\n",
    "        batch_size, *_ = x.shape\n",
    "        return x.view(batch_size, -1)"
   ]
  },
  {
   "cell_type": "markdown",
   "metadata": {},
   "source": [
    "Создадим простейшую сеть с новыми слоями:  \n",
    "Convolutional - `nn.Conv2d`  \n",
    "MaxPool - `nn.MaxPool2d`"
   ]
  },
  {
   "cell_type": "code",
   "execution_count": 7,
   "metadata": {
    "colab": {},
    "colab_type": "code",
    "id": "w9SFVGZP7SQd"
   },
   "outputs": [],
   "source": [
    "nn_model = nn.Sequential(\n",
    "            nn.Conv2d(3, 64, 3, padding=1),\n",
    "            nn.ReLU(inplace=True),\n",
    "            nn.MaxPool2d(4),\n",
    "            nn.Conv2d(64, 64, 3, padding=1),\n",
    "            nn.ReLU(inplace=True),\n",
    "            nn.MaxPool2d(4),    \n",
    "            Flattener(),\n",
    "            nn.Linear(64*2*2, 10),\n",
    "          )\n",
    "\n",
    "nn_model.type(torch.cuda.FloatTensor)\n",
    "nn_model.to(device)\n",
    "\n",
    "loss = nn.CrossEntropyLoss().type(torch.cuda.FloatTensor)\n",
    "optimizer = optim.SGD(nn_model.parameters(), lr=1e-1, weight_decay=1e-4)"
   ]
  },
  {
   "cell_type": "markdown",
   "metadata": {},
   "source": [
    "Восстановите функцию `compute_accuracy` из прошлого задания.  \n",
    "Единственное отличие в новом - она должна передать данные на GPU прежде чем прогонять через модель. Сделайте это так же, как это делает функция `train_model`"
   ]
  },
  {
   "cell_type": "code",
   "execution_count": 8,
   "metadata": {
    "colab": {},
    "colab_type": "code",
    "id": "2ek3KVQK7hJ6"
   },
   "outputs": [
    {
     "name": "stdout",
     "output_type": "stream",
     "text": [
      "Average loss: 1.416580, Train accuracy: 0.525424, Val accuracy: 0.734489\n",
      "Average loss: 0.700145, Train accuracy: 0.786558, Val accuracy: 0.794690\n",
      "Average loss: 0.602223, Train accuracy: 0.819438, Val accuracy: 0.829500\n",
      "Average loss: 0.551862, Train accuracy: 0.833515, Val accuracy: 0.842263\n",
      "Average loss: 0.519409, Train accuracy: 0.845647, Val accuracy: 0.827998\n"
     ]
    }
   ],
   "source": [
    "def train_model(model, train_loader, val_loader, loss, optimizer, num_epochs):    \n",
    "    loss_history = []\n",
    "    train_history = []\n",
    "    val_history = []\n",
    "    for epoch in range(num_epochs):\n",
    "        model.train() # Enter train mode\n",
    "        \n",
    "        loss_accum = 0\n",
    "        correct_samples = 0\n",
    "        total_samples = 0\n",
    "        for i_step, (x, y) in enumerate(train_loader):\n",
    "          \n",
    "            x_gpu = x.to(device)\n",
    "            y_gpu = y.to(device)\n",
    "            prediction = model(x_gpu)    \n",
    "            loss_value = loss(prediction, y_gpu)\n",
    "            optimizer.zero_grad()\n",
    "            loss_value.backward()\n",
    "            optimizer.step()\n",
    "            \n",
    "            _, indices = torch.max(prediction, 1)\n",
    "            correct_samples += torch.sum(indices == y_gpu)\n",
    "            total_samples += y.shape[0]\n",
    "            \n",
    "            loss_accum += loss_value\n",
    "\n",
    "        ave_loss = loss_accum / i_step\n",
    "        train_accuracy = float(correct_samples) / total_samples\n",
    "        val_accuracy = compute_accuracy(model, val_loader)\n",
    "        \n",
    "        loss_history.append(float(ave_loss))\n",
    "        train_history.append(train_accuracy)\n",
    "        val_history.append(val_accuracy)\n",
    "        \n",
    "        print(\"Average loss: %f, Train accuracy: %f, Val accuracy: %f\" % (ave_loss, train_accuracy, val_accuracy))\n",
    "        \n",
    "    return loss_history, train_history, val_history\n",
    "        \n",
    "def compute_accuracy(model, loader):\n",
    "    \"\"\"\n",
    "    Computes accuracy on the dataset wrapped in a loader\n",
    "    \n",
    "    Returns: accuracy as a float value between 0 and 1\n",
    "    \"\"\"\n",
    "    model.eval() # Evaluation mode\n",
    "    # TODO: Implement the inference of the model on all of the batches from loader,\n",
    "    #       and compute the overall accuracy.\n",
    "    # Hint: PyTorch has the argmax function!\n",
    "    correct_samples = 0\n",
    "    total_samples = 0\n",
    "    for x, y in loader:\n",
    "        x_gpu = x.to(device)\n",
    "        y_gpu = y.to(device)\n",
    "        prediction = model(x_gpu)\n",
    "        _, indices = torch.max(prediction, 1)\n",
    "        correct_samples += torch.sum(indices == y_gpu)\n",
    "        total_samples += y.shape[0]\n",
    "    accuracy = float(correct_samples) / total_samples\n",
    "    return accuracy\n",
    "\n",
    "loss_history, train_history, val_history = train_model(nn_model, train_loader, val_loader, loss, optimizer, 5)"
   ]
  },
  {
   "cell_type": "markdown",
   "metadata": {
    "colab_type": "text",
    "id": "6a-3a1ZFGEw_"
   },
   "source": [
    "# Аугментация данных (Data augmentation)\n",
    "\n",
    "В работе с изображениями одним из особенно важных методов является аугментация данных - то есть, генерация дополнительных данных для тренировки на основе изначальных.   \n",
    "Таким образом, мы получаем возможность \"увеличить\" набор данных для тренировки, что ведет к лучшей работе сети.\n",
    "Важно, чтобы аугментированные данные были похожи на те, которые могут встретиться в реальной жизни, иначе польза от аугментаций уменьшается и может ухудшить работу сети.\n",
    "\n",
    "С PyTorch идут несколько таких алгоритмов, называемых `transforms`. Более подробно про них можно прочитать тут -\n",
    "https://pytorch.org/tutorials/beginner/data_loading_tutorial.html#transforms\n",
    "\n",
    "Ниже мы используем следующие алгоритмы генерации:\n",
    "- ColorJitter - случайное изменение цвета\n",
    "- RandomHorizontalFlip - горизонтальное отражение с вероятностью 50%\n",
    "- RandomVerticalFlip - вертикальное отражение с вероятностью 50%\n",
    "- RandomRotation - случайный поворот"
   ]
  },
  {
   "cell_type": "code",
   "execution_count": 9,
   "metadata": {
    "colab": {},
    "colab_type": "code",
    "id": "jCWMUWmr7t5g"
   },
   "outputs": [],
   "source": [
    "tfs = transforms.Compose([\n",
    "    transforms.ColorJitter(hue=.50, saturation=.50),\n",
    "    transforms.RandomHorizontalFlip(),\n",
    "    transforms.RandomVerticalFlip(),\n",
    "    transforms.RandomRotation(50, resample=PIL.Image.BILINEAR),\n",
    "    transforms.ToTensor(),\n",
    "    transforms.Normalize(mean=[0.43,0.44,0.47],\n",
    "                       std=[0.20,0.20,0.20])                           \n",
    "])\n",
    "\n",
    "# Create augmented train dataset\n",
    "data_aug_train = dset.SVHN('./', \n",
    "                       transform=tfs\n",
    "                      )\n",
    "\n",
    "train_aug_loader = torch.utils.data.DataLoader(data_aug_train, batch_size=batch_size, \n",
    "                                           sampler=train_sampler)"
   ]
  },
  {
   "cell_type": "markdown",
   "metadata": {},
   "source": [
    "Визуализируем результаты агментации (вообще, смотреть на сгенерированные данные всегда очень полезно)."
   ]
  },
  {
   "cell_type": "code",
   "execution_count": 10,
   "metadata": {
    "colab": {},
    "colab_type": "code",
    "id": "YlJJEro1KZ45"
   },
   "outputs": [
    {
     "data": {
      "image/png": "[encoded data removed]",
      "text/plain": [
       "<Figure size 2160x216 with 10 Axes>"
      ]
     },
     "metadata": {
      "needs_background": "light"
     },
     "output_type": "display_data"
    }
   ],
   "source": [
    "# TODO: Visualize some augmented images!\n",
    "# hint: you can create new datasets and loaders to accomplish this\n",
    "\n",
    "# Based on the visualizations, should we keep all the augmentations?\n",
    "\n",
    "tfs = transforms.Compose([\n",
    "    transforms.ColorJitter(hue=.20, saturation=.20),\n",
    "    transforms.RandomHorizontalFlip(),\n",
    "    transforms.RandomVerticalFlip(),\n",
    "    transforms.RandomRotation(10, resample=PIL.Image.BILINEAR),\n",
    "])\n",
    "\n",
    "data_aug_vis = dset.SVHN('./', \n",
    "                       transform=tfs\n",
    "                      )\n",
    "\n",
    "plt.figure(figsize=(30, 3))\n",
    "\n",
    "for i, (x, y) in enumerate(data_aug_vis):\n",
    "    if i == 10:\n",
    "        break\n",
    "    plt.subplot(1, 10, i+1)\n",
    "    plt.grid(False)\n",
    "    plt.imshow(x)\n",
    "    plt.axis('off')"
   ]
  },
  {
   "cell_type": "markdown",
   "metadata": {
    "colab_type": "text",
    "id": "o2LrmsYHoguB"
   },
   "source": [
    "Все ли агментации одинаково полезны на этом наборе данных? Могут ли быть среди них те, которые собьют модель с толку?\n",
    "\n",
    "Выберите из них только корректные"
   ]
  },
  {
   "cell_type": "markdown",
   "metadata": {},
   "source": [
    "**Ответ**\n",
    "\n",
    "Не все аугментации оказываются полезными. Например, кажется, что горизонтальные и вертикальные отражения только запутывают нашу сеть. Действительно, вертикальное + горизонтальное отражение цифры `9` может сделать из нее `6`, а горизонтальное отражение цифр создает несуществующие цифры. Если наша цель - не предсказывать цифры в зеркальном отражении, то эти две аугментации стоит убрать, что я делаю ниже."
   ]
  },
  {
   "cell_type": "code",
   "execution_count": 11,
   "metadata": {
    "colab": {},
    "colab_type": "code",
    "id": "evro9ksXGs9u"
   },
   "outputs": [],
   "source": [
    "# TODO: \n",
    "tfs = transforms.Compose([\n",
    "    # TODO: Add good augmentations\n",
    "    transforms.ColorJitter(hue=.20, saturation=.20),\n",
    "    transforms.RandomRotation(10, resample=PIL.Image.BILINEAR),\n",
    "    transforms.ToTensor(),\n",
    "    transforms.Normalize(mean=[0.43,0.44,0.47],\n",
    "                       std=[0.20,0.20,0.20])                           \n",
    "])\n",
    "\n",
    "# TODO create new instances of loaders with the augmentations you chose\n",
    "data_aug_train = dset.SVHN('./', \n",
    "                       transform=tfs\n",
    "                      )\n",
    "\n",
    "train_aug_loader = torch.utils.data.DataLoader(data_aug_train, batch_size=batch_size, \n",
    "                                           sampler=train_sampler)"
   ]
  },
  {
   "cell_type": "code",
   "execution_count": 12,
   "metadata": {
    "colab": {},
    "colab_type": "code",
    "id": "PeO6Zw0DHqPR"
   },
   "outputs": [
    {
     "name": "stdout",
     "output_type": "stream",
     "text": [
      "Average loss: 0.612859, Train accuracy: 0.814592, Val accuracy: 0.804450\n",
      "Average loss: 0.559228, Train accuracy: 0.830137, Val accuracy: 0.832571\n",
      "Average loss: 0.545853, Train accuracy: 0.834403, Val accuracy: 0.849840\n",
      "Average loss: 0.528114, Train accuracy: 0.838839, Val accuracy: 0.858098\n",
      "Average loss: 0.514099, Train accuracy: 0.843992, Val accuracy: 0.857621\n"
     ]
    }
   ],
   "source": [
    "# Finally, let's train with augmentations!\n",
    "\n",
    "# Note we shouldn't use augmentations on validation\n",
    "\n",
    "loss_history, train_history, val_history = train_model(nn_model, train_aug_loader, val_loader, loss, optimizer, 5)"
   ]
  },
  {
   "cell_type": "markdown",
   "metadata": {
    "colab_type": "text",
    "id": "r0bcioK6JBDK"
   },
   "source": [
    "# LeNet\n",
    "Попробуем имплементировать классическую архитектуру сверточной нейронной сети, предложенную Яном ЛеКуном в 1998 году. В свое время она достигла впечатляющих результатов на MNIST, посмотрим как она справится с SVHN?\n",
    "Она описана в статье [\"Gradient Based Learning Applied to Document Recognition\"](http://yann.lecun.com/exdb/publis/pdf/lecun-01a.pdf), попробуйте прочитать ключевые части и имплементировать предложенную архитетуру на PyTorch.\n",
    "\n",
    "Реализовывать слои и функцию ошибки LeNet, которых нет в PyTorch, **не нужно** - просто возьмите их размеры и переведите в уже известные нам Convolutional, Pooling и Fully Connected layers.\n",
    "\n",
    "Если в статье не очень понятно, можно просто погуглить LeNet и разобраться в деталях :)"
   ]
  },
  {
   "cell_type": "code",
   "execution_count": 13,
   "metadata": {
    "colab": {},
    "colab_type": "code",
    "id": "ieEzZUglJAUB"
   },
   "outputs": [],
   "source": [
    "# TODO: Implement LeNet-like architecture for SVHN task\n",
    "lenet_model = nn.Sequential(\n",
    "    nn.Conv2d(3, 6, 5),\n",
    "    nn.Tanh(),\n",
    "    nn.MaxPool2d(2,2),\n",
    "    nn.Conv2d(6, 16, 5),\n",
    "    nn.Tanh(),\n",
    "    nn.MaxPool2d(2,2),\n",
    "    nn.Conv2d(16, 120, 5),\n",
    "    nn.Tanh(),\n",
    "    Flattener(),\n",
    "    nn.Linear(120, 84),\n",
    "    nn.Tanh(),\n",
    "    nn.Linear(84, 10)\n",
    "          )\n",
    "\n",
    "lenet_model.type(torch.cuda.FloatTensor)\n",
    "lenet_model.to(device)\n",
    "\n",
    "loss = nn.CrossEntropyLoss().type(torch.cuda.FloatTensor)\n",
    "optimizer = optim.SGD(lenet_model.parameters(), lr=1e-1, weight_decay=1e-4)"
   ]
  },
  {
   "cell_type": "code",
   "execution_count": 14,
   "metadata": {
    "colab": {},
    "colab_type": "code",
    "id": "WMmaPfdeKk9H"
   },
   "outputs": [
    {
     "name": "stdout",
     "output_type": "stream",
     "text": [
      "Average loss: 1.263467, Train accuracy: 0.572945, Val accuracy: 0.814620\n",
      "Average loss: 0.578812, Train accuracy: 0.824779, Val accuracy: 0.862398\n",
      "Average loss: 0.491696, Train accuracy: 0.849964, Val accuracy: 0.867518\n",
      "Average loss: 0.445850, Train accuracy: 0.863086, Val accuracy: 0.877688\n",
      "Average loss: 0.413883, Train accuracy: 0.873170, Val accuracy: 0.876868\n",
      "Average loss: 0.393378, Train accuracy: 0.878903, Val accuracy: 0.880827\n",
      "Average loss: 0.378818, Train accuracy: 0.882640, Val accuracy: 0.886970\n",
      "Average loss: 0.362343, Train accuracy: 0.888390, Val accuracy: 0.886492\n",
      "Average loss: 0.345136, Train accuracy: 0.894584, Val accuracy: 0.890588\n",
      "Average loss: 0.335442, Train accuracy: 0.895983, Val accuracy: 0.884240\n"
     ]
    }
   ],
   "source": [
    "# Let's train it!\n",
    "loss_history, train_history, val_history = train_model(lenet_model, train_aug_loader, val_loader, loss, optimizer, 10)"
   ]
  },
  {
   "cell_type": "markdown",
   "metadata": {
    "colab_type": "text",
    "id": "u_O9qiYySvuj"
   },
   "source": [
    "# Подбор гиперпараметров"
   ]
  },
  {
   "cell_type": "code",
   "execution_count": 15,
   "metadata": {},
   "outputs": [],
   "source": [
    "def train_model_with_sched(model, train_loader, val_loader, loss, optimizer, num_epochs, scheduler=None):    \n",
    "    loss_history = []\n",
    "    train_history = []\n",
    "    val_history = []\n",
    "    for epoch in range(num_epochs):\n",
    "        model.train() # Enter train mode\n",
    "        \n",
    "        loss_accum = 0\n",
    "        correct_samples = 0\n",
    "        total_samples = 0\n",
    "\n",
    "        current_lr = optimizer.param_groups[0]['lr']\n",
    "        for i_step, (x, y) in enumerate(train_loader):\n",
    "\n",
    "\n",
    "            x_gpu = x.to(device)\n",
    "            y_gpu = y.to(device)\n",
    "            prediction = model(x_gpu)    \n",
    "            loss_value = loss(prediction, y_gpu)\n",
    "            optimizer.zero_grad()\n",
    "            loss_value.backward()\n",
    "            optimizer.step()\n",
    "            \n",
    "            _, indices = torch.max(prediction, 1)\n",
    "            correct_samples += torch.sum(indices == y_gpu)\n",
    "            total_samples += y.shape[0]\n",
    "            \n",
    "            loss_accum += loss_value\n",
    "\n",
    "        ave_loss = loss_accum / i_step\n",
    "        train_accuracy = float(correct_samples) / total_samples\n",
    "        val_accuracy = compute_accuracy(model, val_loader)\n",
    "        \n",
    "        loss_history.append(float(ave_loss))\n",
    "        train_history.append(train_accuracy)\n",
    "        val_history.append(val_accuracy)\n",
    "        \n",
    "        if scheduler:\n",
    "            scheduler.step()\n",
    "        print(\"Average loss: %f, Train accuracy: %f, Val accuracy: %f\" % (ave_loss, train_accuracy, val_accuracy))\n",
    "        \n",
    "    return loss_history, train_history, val_history"
   ]
  },
  {
   "cell_type": "code",
   "execution_count": 24,
   "metadata": {
    "colab": {},
    "colab_type": "code",
    "id": "i6mhfdQ9K-N3"
   },
   "outputs": [
    {
     "name": "stdout",
     "output_type": "stream",
     "text": [
      "Current set of parameters is: learning rate = 0.1, anneal_coeff = 0.2, anneal_epoch = 5, reg = 0.0001\n",
      "Average loss: 1.259183, Train accuracy: 0.581596, Val accuracy: 0.829909\n",
      "Average loss: 0.572005, Train accuracy: 0.826178, Val accuracy: 0.861921\n",
      "Average loss: 0.490214, Train accuracy: 0.849538, Val accuracy: 0.876459\n",
      "Average loss: 0.443750, Train accuracy: 0.863290, Val accuracy: 0.879121\n",
      "Average loss: 0.414708, Train accuracy: 0.871754, Val accuracy: 0.889018\n",
      "Average loss: 0.349312, Train accuracy: 0.894516, Val accuracy: 0.897959\n",
      "Average loss: 0.336299, Train accuracy: 0.897690, Val accuracy: 0.899734\n",
      "Average loss: 0.331217, Train accuracy: 0.899157, Val accuracy: 0.903420\n",
      "Average loss: 0.326762, Train accuracy: 0.900454, Val accuracy: 0.902259\n",
      "Average loss: 0.319431, Train accuracy: 0.903013, Val accuracy: 0.903420\n",
      "Current set of parameters is: learning rate = 0.1, anneal_coeff = 0.2, anneal_epoch = 5, reg = 1e-05\n",
      "Average loss: 1.231486, Train accuracy: 0.586049, Val accuracy: 0.832025\n",
      "Average loss: 0.562539, Train accuracy: 0.828396, Val accuracy: 0.851546\n",
      "Average loss: 0.482418, Train accuracy: 0.852251, Val accuracy: 0.873251\n",
      "Average loss: 0.438410, Train accuracy: 0.866021, Val accuracy: 0.881988\n",
      "Average loss: 0.408904, Train accuracy: 0.873767, Val accuracy: 0.890383\n",
      "Average loss: 0.343660, Train accuracy: 0.895966, Val accuracy: 0.897413\n",
      "Average loss: 0.335264, Train accuracy: 0.898850, Val accuracy: 0.901918\n",
      "Average loss: 0.327763, Train accuracy: 0.900932, Val accuracy: 0.899939\n",
      "Average loss: 0.321144, Train accuracy: 0.902007, Val accuracy: 0.900075\n",
      "Average loss: 0.318592, Train accuracy: 0.903986, Val accuracy: 0.901031\n",
      "Current set of parameters is: learning rate = 0.1, anneal_coeff = 0.9, anneal_epoch = 5, reg = 0.0001\n",
      "Average loss: 1.252405, Train accuracy: 0.579872, Val accuracy: 0.820558\n",
      "Average loss: 0.559751, Train accuracy: 0.830461, Val accuracy: 0.854822\n",
      "Average loss: 0.480250, Train accuracy: 0.852933, Val accuracy: 0.872705\n",
      "Average loss: 0.435955, Train accuracy: 0.867949, Val accuracy: 0.870999\n",
      "Average loss: 0.407929, Train accuracy: 0.875474, Val accuracy: 0.881510\n",
      "Average loss: 0.381577, Train accuracy: 0.882572, Val accuracy: 0.884718\n",
      "Average loss: 0.360420, Train accuracy: 0.889551, Val accuracy: 0.879599\n",
      "Average loss: 0.349421, Train accuracy: 0.893373, Val accuracy: 0.888950\n",
      "Average loss: 0.341057, Train accuracy: 0.896222, Val accuracy: 0.899734\n",
      "Average loss: 0.327823, Train accuracy: 0.898986, Val accuracy: 0.896458\n",
      "Current set of parameters is: learning rate = 0.1, anneal_coeff = 0.9, anneal_epoch = 5, reg = 1e-05\n",
      "Average loss: 1.267804, Train accuracy: 0.573900, Val accuracy: 0.823015\n",
      "Average loss: 0.571362, Train accuracy: 0.827731, Val accuracy: 0.856597\n",
      "Average loss: 0.491452, Train accuracy: 0.849486, Val accuracy: 0.869702\n",
      "Average loss: 0.448202, Train accuracy: 0.863410, Val accuracy: 0.876800\n",
      "Average loss: 0.420576, Train accuracy: 0.871873, Val accuracy: 0.876800\n",
      "Average loss: 0.392526, Train accuracy: 0.879603, Val accuracy: 0.881715\n",
      "Average loss: 0.373401, Train accuracy: 0.885814, Val accuracy: 0.883967\n",
      "Average loss: 0.361261, Train accuracy: 0.889704, Val accuracy: 0.893523\n",
      "Average loss: 0.347988, Train accuracy: 0.893014, Val accuracy: 0.892499\n",
      "Average loss: 0.335329, Train accuracy: 0.898133, Val accuracy: 0.888608\n",
      "Current set of parameters is: learning rate = 0.01, anneal_coeff = 0.2, anneal_epoch = 5, reg = 0.0001\n",
      "Average loss: 2.241751, Train accuracy: 0.188854, Val accuracy: 0.192478\n",
      "Average loss: 2.160460, Train accuracy: 0.230028, Val accuracy: 0.303802\n",
      "Average loss: 1.771647, Train accuracy: 0.397911, Val accuracy: 0.489182\n",
      "Average loss: 1.237901, Train accuracy: 0.595775, Val accuracy: 0.705822\n",
      "Average loss: 0.900474, Train accuracy: 0.729550, Val accuracy: 0.785202\n",
      "Average loss: 0.761984, Train accuracy: 0.771969, Val accuracy: 0.798103\n",
      "Average loss: 0.733214, Train accuracy: 0.781388, Val accuracy: 0.805338\n",
      "Average loss: 0.710484, Train accuracy: 0.787155, Val accuracy: 0.812300\n",
      "Average loss: 0.688172, Train accuracy: 0.794799, Val accuracy: 0.818852\n",
      "Average loss: 0.669295, Train accuracy: 0.800771, Val accuracy: 0.822128\n",
      "Current set of parameters is: learning rate = 0.01, anneal_coeff = 0.2, anneal_epoch = 5, reg = 1e-05\n",
      "Average loss: 2.244006, Train accuracy: 0.180186, Val accuracy: 0.186950\n",
      "Average loss: 2.155333, Train accuracy: 0.227673, Val accuracy: 0.306327\n",
      "Average loss: 1.677239, Train accuracy: 0.426560, Val accuracy: 0.554365\n",
      "Average loss: 1.122714, Train accuracy: 0.642665, Val accuracy: 0.723295\n",
      "Average loss: 0.847894, Train accuracy: 0.740146, Val accuracy: 0.789571\n",
      "Average loss: 0.741596, Train accuracy: 0.776013, Val accuracy: 0.799672\n",
      "Average loss: 0.716299, Train accuracy: 0.786063, Val accuracy: 0.808136\n",
      "Average loss: 0.695333, Train accuracy: 0.791131, Val accuracy: 0.812709\n",
      "Average loss: 0.675809, Train accuracy: 0.798894, Val accuracy: 0.818647\n",
      "Average loss: 0.658510, Train accuracy: 0.804542, Val accuracy: 0.823630\n",
      "Current set of parameters is: learning rate = 0.01, anneal_coeff = 0.9, anneal_epoch = 5, reg = 0.0001\n",
      "Average loss: 2.248946, Train accuracy: 0.184827, Val accuracy: 0.186540\n",
      "Average loss: 2.194595, Train accuracy: 0.205764, Val accuracy: 0.265306\n",
      "Average loss: 1.888844, Train accuracy: 0.357591, Val accuracy: 0.462699\n",
      "Average loss: 1.326495, Train accuracy: 0.561939, Val accuracy: 0.669988\n",
      "Average loss: 0.939535, Train accuracy: 0.717350, Val accuracy: 0.788342\n",
      "Average loss: 0.741182, Train accuracy: 0.780534, Val accuracy: 0.819944\n",
      "Average loss: 0.643830, Train accuracy: 0.810019, Val accuracy: 0.835916\n",
      "Average loss: 0.588341, Train accuracy: 0.825786, Val accuracy: 0.848338\n",
      "Average loss: 0.551534, Train accuracy: 0.836092, Val accuracy: 0.854617\n",
      "Average loss: 0.528275, Train accuracy: 0.842764, Val accuracy: 0.861784\n",
      "Current set of parameters is: learning rate = 0.01, anneal_coeff = 0.9, anneal_epoch = 5, reg = 1e-05\n",
      "Average loss: 2.248318, Train accuracy: 0.181347, Val accuracy: 0.186540\n",
      "Average loss: 2.178734, Train accuracy: 0.214449, Val accuracy: 0.294314\n",
      "Average loss: 1.792994, Train accuracy: 0.387793, Val accuracy: 0.500375\n",
      "Average loss: 1.267930, Train accuracy: 0.587704, Val accuracy: 0.697495\n",
      "Average loss: 0.923659, Train accuracy: 0.721735, Val accuracy: 0.778582\n",
      "Average loss: 0.753062, Train accuracy: 0.777275, Val accuracy: 0.808477\n",
      "Average loss: 0.658788, Train accuracy: 0.804474, Val accuracy: 0.829090\n",
      "Average loss: 0.606957, Train accuracy: 0.818773, Val accuracy: 0.846086\n",
      "Average loss: 0.571454, Train accuracy: 0.829847, Val accuracy: 0.848748\n",
      "Average loss: 0.544845, Train accuracy: 0.837133, Val accuracy: 0.851205\n",
      "Current set of parameters is: learning rate = 0.001, anneal_coeff = 0.2, anneal_epoch = 5, reg = 0.0001\n",
      "Average loss: 2.293405, Train accuracy: 0.126182, Val accuracy: 0.178281\n",
      "Average loss: 2.267260, Train accuracy: 0.188854, Val accuracy: 0.186540\n",
      "Average loss: 2.249254, Train accuracy: 0.189878, Val accuracy: 0.186540\n",
      "Average loss: 2.239819, Train accuracy: 0.189878, Val accuracy: 0.186540\n",
      "Average loss: 2.235239, Train accuracy: 0.189912, Val accuracy: 0.186540\n",
      "Average loss: 2.233291, Train accuracy: 0.189895, Val accuracy: 0.186540\n",
      "Average loss: 2.232748, Train accuracy: 0.189895, Val accuracy: 0.186540\n",
      "Average loss: 2.232239, Train accuracy: 0.189895, Val accuracy: 0.186540\n",
      "Average loss: 2.231761, Train accuracy: 0.189912, Val accuracy: 0.186540\n",
      "Average loss: 2.231107, Train accuracy: 0.189878, Val accuracy: 0.186540\n",
      "Current set of parameters is: learning rate = 0.001, anneal_coeff = 0.2, anneal_epoch = 5, reg = 1e-05\n",
      "Average loss: 2.294142, Train accuracy: 0.140839, Val accuracy: 0.184970\n",
      "Average loss: 2.268592, Train accuracy: 0.189844, Val accuracy: 0.186540\n",
      "Average loss: 2.251913, Train accuracy: 0.189878, Val accuracy: 0.186540\n",
      "Average loss: 2.242032, Train accuracy: 0.189878, Val accuracy: 0.186540\n",
      "Average loss: 2.236463, Train accuracy: 0.189878, Val accuracy: 0.186540\n",
      "Average loss: 2.234002, Train accuracy: 0.189878, Val accuracy: 0.186540\n",
      "Average loss: 2.233150, Train accuracy: 0.189878, Val accuracy: 0.186540\n",
      "Average loss: 2.232395, Train accuracy: 0.189878, Val accuracy: 0.186540\n",
      "Average loss: 2.231786, Train accuracy: 0.189878, Val accuracy: 0.186540\n"
     ]
    },
    {
     "name": "stdout",
     "output_type": "stream",
     "text": [
      "Average loss: 2.230912, Train accuracy: 0.189878, Val accuracy: 0.186540\n",
      "Current set of parameters is: learning rate = 0.001, anneal_coeff = 0.9, anneal_epoch = 5, reg = 0.0001\n",
      "Average loss: 2.288711, Train accuracy: 0.170051, Val accuracy: 0.186404\n",
      "Average loss: 2.266867, Train accuracy: 0.189878, Val accuracy: 0.186540\n",
      "Average loss: 2.252116, Train accuracy: 0.189878, Val accuracy: 0.186540\n",
      "Average loss: 2.242877, Train accuracy: 0.189878, Val accuracy: 0.186540\n",
      "Average loss: 2.237436, Train accuracy: 0.189878, Val accuracy: 0.186540\n",
      "Average loss: 2.234385, Train accuracy: 0.189878, Val accuracy: 0.186540\n",
      "Average loss: 2.232117, Train accuracy: 0.189878, Val accuracy: 0.186540\n",
      "Average loss: 2.229776, Train accuracy: 0.189878, Val accuracy: 0.186540\n",
      "Average loss: 2.227228, Train accuracy: 0.189878, Val accuracy: 0.186540\n",
      "Average loss: 2.224410, Train accuracy: 0.189878, Val accuracy: 0.186540\n",
      "Current set of parameters is: learning rate = 0.001, anneal_coeff = 0.9, anneal_epoch = 5, reg = 1e-05\n",
      "Average loss: 2.297795, Train accuracy: 0.111917, Val accuracy: 0.145656\n",
      "Average loss: 2.274691, Train accuracy: 0.179999, Val accuracy: 0.185721\n",
      "Average loss: 2.258383, Train accuracy: 0.189793, Val accuracy: 0.186540\n",
      "Average loss: 2.247369, Train accuracy: 0.189878, Val accuracy: 0.186540\n",
      "Average loss: 2.240505, Train accuracy: 0.189878, Val accuracy: 0.186540\n",
      "Average loss: 2.236395, Train accuracy: 0.189895, Val accuracy: 0.186540\n",
      "Average loss: 2.233854, Train accuracy: 0.189878, Val accuracy: 0.186608\n",
      "Average loss: 2.231293, Train accuracy: 0.189878, Val accuracy: 0.186677\n",
      "Average loss: 2.228900, Train accuracy: 0.189912, Val accuracy: 0.186540\n",
      "Average loss: 2.226275, Train accuracy: 0.190168, Val accuracy: 0.186881\n"
     ]
    }
   ],
   "source": [
    "# The key hyperparameters we're going to tune are learning speed, annealing rate and regularization\n",
    "# We also encourage you to try different optimizers as well\n",
    "\n",
    "Hyperparams = namedtuple(\"Hyperparams\", ['learning_rate', 'anneal_coeff', 'anneal_epochs', 'reg'])\n",
    "RunResult = namedtuple(\"RunResult\", ['model', 'train_history', 'val_history', 'final_val_accuracy'])\n",
    "\n",
    "learning_rates = [1e-1, 1e-2, 1e-3]\n",
    "anneal_coeff = [0.2, 0.9]\n",
    "anneal_epochs = [5]\n",
    "reg = [1e-4, 1e-5]\n",
    "\n",
    "batch_size = 64\n",
    "epoch_num = 10\n",
    "\n",
    "# Record all the runs here\n",
    "# Key should be Hyperparams and values should be RunResult\n",
    "run_record = {} \n",
    "\n",
    "# Use grid search or random search and record all runs in run_record dictionnary \n",
    "# Important: perform search in logarithmic space!\n",
    "\n",
    "loss = nn.CrossEntropyLoss().type(torch.cuda.FloatTensor)\n",
    "\n",
    "# TODO: Your code here!\n",
    "for lr, ac, ae, reg in itertools.product(learning_rates, anneal_coeff, anneal_epochs, reg):\n",
    "    print(f'Current set of parameters is: learning rate = {lr}, anneal_coeff = {ac}, anneal_epoch = {ae}, reg = {reg}')\n",
    "    lenet_model = nn.Sequential(\n",
    "        nn.Conv2d(3, 6, 5),\n",
    "        nn.Tanh(),\n",
    "        nn.MaxPool2d(2,2),\n",
    "        nn.Conv2d(6, 16, 5),\n",
    "        nn.Tanh(),\n",
    "        nn.MaxPool2d(2,2),\n",
    "        nn.Conv2d(16, 120, 5),\n",
    "        nn.Tanh(),\n",
    "        Flattener(),\n",
    "        nn.Linear(120, 84),\n",
    "        nn.Tanh(),\n",
    "        nn.Linear(84, 10)\n",
    "    )\n",
    "\n",
    "    lenet_model.type(torch.cuda.FloatTensor)\n",
    "    lenet_model.to(device)\n",
    "\n",
    "#     optimizer = torch.optim.Adam(lenet_model.parameters(), lr=lr, weight_decay=reg)\n",
    "    optimizer = optim.SGD(lenet_model.parameters(), lr=lr, weight_decay=reg)\n",
    "    scheduler = optim.lr_scheduler.StepLR(optimizer, step_size=ae, gamma=ac)\n",
    "\n",
    "    loss_history, train_history, val_history = train_model_with_sched(lenet_model,\n",
    "                                                           train_aug_loader,\n",
    "                                                           val_loader,\n",
    "                                                           loss,\n",
    "                                                           optimizer,\n",
    "                                                           epoch_num,\n",
    "                                                           scheduler)\n",
    "    running_res = RunResult(lenet_model, train_history, val_history, val_history[-1])\n",
    "    params = Hyperparams(lr, ac, ae, reg)\n",
    "    run_record[params] = running_res"
   ]
  },
  {
   "cell_type": "code",
   "execution_count": 25,
   "metadata": {
    "colab": {
     "base_uri": "https://localhost:8080/",
     "height": 34
    },
    "colab_type": "code",
    "id": "Y6xExdw8JB1l",
    "outputId": "a9ad86f8-3e29-45cc-d33f-e6170018a4ed"
   },
   "outputs": [
    {
     "name": "stdout",
     "output_type": "stream",
     "text": [
      "Best validation accuracy: 0.90, best hyperparams: Hyperparams(learning_rate=0.1, anneal_coeff=0.2, anneal_epochs=5, reg=0.0001)\n"
     ]
    }
   ],
   "source": [
    "best_val_accuracy = None\n",
    "best_hyperparams = None\n",
    "best_run = None\n",
    "\n",
    "for hyperparams, run_result in run_record.items():\n",
    "    if best_val_accuracy is None or best_val_accuracy < run_result.final_val_accuracy:\n",
    "        best_val_accuracy = run_result.final_val_accuracy\n",
    "        best_hyperparams = hyperparams\n",
    "        best_run = run_result\n",
    "        \n",
    "print(\"Best validation accuracy: %4.2f, best hyperparams: %s\" % (best_val_accuracy, best_hyperparams))"
   ]
  },
  {
   "cell_type": "markdown",
   "metadata": {
    "colab_type": "text",
    "id": "LOmsR0uVgtgf"
   },
   "source": [
    "# Свободное упражнение - догоним и перегоним LeNet!\n",
    "\n",
    "Попробуйте найти архитектуру и настройки тренировки, чтобы выступить лучше наших бейзлайнов.\n",
    "\n",
    "Что можно и нужно попробовать:\n",
    "- BatchNormalization (для convolution layers он в PyTorch называется [batchnorm2d](https://pytorch.org/docs/stable/nn.html#batchnorm2d))\n",
    "- Изменить количество слоев и их толщину\n",
    "- Изменять количество эпох тренировки\n",
    "- Попробовать и другие агментации"
   ]
  },
  {
   "cell_type": "markdown",
   "metadata": {},
   "source": [
    "Для этого свободного упражнения я взял архитектуру, напоминающую по структуре VGG16.\n",
    "В качестве оптимизатора хорошо себя показал `Adam`.\n",
    "И я добавил еще к уже имеющемуся списку агментаций `RandomGrayScale` - случайный перевод изображения в черно-белое.\n",
    "\n",
    "Также я добавил эпох тренировки: их теперь 20, но на самом деле уже и при 10 качество было выше, чем в случае LeNet."
   ]
  },
  {
   "cell_type": "code",
   "execution_count": 26,
   "metadata": {},
   "outputs": [],
   "source": [
    "tfs = transforms.Compose([\n",
    "    # TODO: Add good augmentations\n",
    "    transforms.ColorJitter(hue=.20, saturation=.20),\n",
    "    transforms.RandomRotation(10, resample=PIL.Image.BILINEAR),\n",
    "    transforms.RandomGrayscale(p=0.1),\n",
    "    transforms.ToTensor(),\n",
    "    transforms.Normalize(mean=[0.43,0.44,0.47],\n",
    "                       std=[0.20,0.20,0.20])                           \n",
    "])\n",
    "\n",
    "# TODO create new instances of loaders with the augmentations you chose\n",
    "data_aug_train = dset.SVHN('./', \n",
    "                       transform=tfs\n",
    "                      )\n",
    "\n",
    "train_aug_loader = torch.utils.data.DataLoader(data_aug_train, batch_size=batch_size, \n",
    "                                           sampler=train_sampler)"
   ]
  },
  {
   "cell_type": "code",
   "execution_count": 27,
   "metadata": {
    "colab": {},
    "colab_type": "code",
    "id": "tSVhD747icoc"
   },
   "outputs": [],
   "source": [
    "best_model = nn.Sequential()\n",
    "\n",
    "best_model.add_module('conv1', nn.Conv2d(3, 200, kernel_size=(3,3), stride=1))\n",
    "best_model.add_module('bn1_1', nn.BatchNorm2d(200))\n",
    "best_model.add_module('relu1_1', nn.ReLU())\n",
    "best_model.add_module('conv1_2', nn.Conv2d(200, 200, kernel_size=(3,3), stride=1))\n",
    "best_model.add_module('bn1_2', nn.BatchNorm2d(200))\n",
    "best_model.add_module('relu1_2', nn.ReLU())\n",
    "best_model.add_module('maxpool1', nn.MaxPool2d(3))\n",
    "\n",
    "best_model.add_module('conv2_1', nn.Conv2d(200, 400, kernel_size=(3,3), stride=1))\n",
    "best_model.add_module('bn2_1', nn.BatchNorm2d(400))\n",
    "best_model.add_module('relu2_1', nn.ReLU())\n",
    "best_model.add_module('conv2_2', nn.Conv2d(400, 400, kernel_size=(3,3), stride=1))\n",
    "best_model.add_module('bn2_2', nn.BatchNorm2d(400))\n",
    "best_model.add_module('relu2_2', nn.ReLU())\n",
    "best_model.add_module('maxpool2', nn.MaxPool2d(3))\n",
    "\n",
    "best_model.add_module('flatten', nn.Flatten())\n",
    "best_model.add_module('fc1', nn.Linear(400, 100))\n",
    "best_model.add_module('dp1', nn.Dropout(0.5))\n",
    "best_model.add_module('fc2', nn.Linear(100, 10))\n",
    "best_model = best_model.to(device)\n",
    "\n",
    "loss = nn.CrossEntropyLoss().type(torch.cuda.FloatTensor)\n",
    "\n",
    "#L2 regularization is added through weight_decay\n",
    "optimizer = torch.optim.Adam(best_model.parameters(), lr=0.0001, weight_decay=0.00001)\n",
    "scheduler = torch.optim.lr_scheduler.StepLR(optimizer, step_size=15, gamma=0.1)"
   ]
  },
  {
   "cell_type": "code",
   "execution_count": 28,
   "metadata": {},
   "outputs": [
    {
     "name": "stdout",
     "output_type": "stream",
     "text": [
      "Average loss: 0.846205, Train accuracy: 0.737126, Val accuracy: 0.880896\n",
      "Average loss: 0.440950, Train accuracy: 0.868426, Val accuracy: 0.897754\n",
      "Average loss: 0.373071, Train accuracy: 0.890540, Val accuracy: 0.903556\n",
      "Average loss: 0.333654, Train accuracy: 0.903013, Val accuracy: 0.915432\n",
      "Average loss: 0.298466, Train accuracy: 0.912432, Val accuracy: 0.914955\n",
      "Average loss: 0.278567, Train accuracy: 0.917978, Val accuracy: 0.920210\n",
      "Average loss: 0.257124, Train accuracy: 0.924137, Val accuracy: 0.921166\n",
      "Average loss: 0.236620, Train accuracy: 0.930280, Val accuracy: 0.922121\n",
      "Average loss: 0.220128, Train accuracy: 0.935280, Val accuracy: 0.924101\n",
      "Average loss: 0.206402, Train accuracy: 0.937839, Val accuracy: 0.925466\n",
      "Average loss: 0.189389, Train accuracy: 0.943436, Val accuracy: 0.926899\n",
      "Average loss: 0.173924, Train accuracy: 0.947872, Val accuracy: 0.930107\n",
      "Average loss: 0.161249, Train accuracy: 0.951933, Val accuracy: 0.927513\n",
      "Average loss: 0.147546, Train accuracy: 0.955005, Val accuracy: 0.930244\n",
      "Average loss: 0.136066, Train accuracy: 0.959168, Val accuracy: 0.929902\n",
      "Average loss: 0.094127, Train accuracy: 0.973876, Val accuracy: 0.938434\n",
      "Average loss: 0.081239, Train accuracy: 0.978176, Val accuracy: 0.937752\n",
      "Average loss: 0.075443, Train accuracy: 0.980429, Val accuracy: 0.938434\n",
      "Average loss: 0.071123, Train accuracy: 0.981742, Val accuracy: 0.938912\n",
      "Average loss: 0.066747, Train accuracy: 0.983073, Val accuracy: 0.938229\n"
     ]
    }
   ],
   "source": [
    "batch_size = 64\n",
    "epoch_num = 20\n",
    "\n",
    "# Let's train it!\n",
    "loss_history, train_history, val_history = train_model_with_sched(\n",
    "    best_model,\n",
    "    train_aug_loader,\n",
    "    val_loader,\n",
    "    loss,\n",
    "    optimizer,\n",
    "    epoch_num,\n",
    "    scheduler = scheduler)"
   ]
  },
  {
   "cell_type": "markdown",
   "metadata": {
    "colab_type": "text",
    "id": "ubeKgBcnhx7N"
   },
   "source": [
    "# Финальный аккорд - проверим лучшую модель на test set\n",
    "\n",
    "В качестве разнообразия - напишите код для прогона модели на test set вы.\n",
    "\n",
    "В результате вы должны натренировать модель, которая покажет более **90%** точности на test set.  \n",
    "Как водится, лучший результат в группе получит дополнительные баллы!"
   ]
  },
  {
   "cell_type": "code",
   "execution_count": 29,
   "metadata": {
    "colab": {},
    "colab_type": "code",
    "id": "EIqM1kdeh-hd"
   },
   "outputs": [
    {
     "name": "stdout",
     "output_type": "stream",
     "text": [
      "Final test accuracy -  0.9335049170251998\n"
     ]
    }
   ],
   "source": [
    "# TODO Write the code to compute accuracy on test set\n",
    "\n",
    "test_loader = torch.utils.data.DataLoader(data_test, batch_size=batch_size)\n",
    "best_model.eval()\n",
    "correct_samples = 0\n",
    "total_samples = 0\n",
    "for x_batch, y_batch in test_loader:\n",
    "    x_batch = x_batch.to(device)\n",
    "    y_batch = y_batch.to(device)\n",
    "    predictions = best_model.forward(x_batch)\n",
    "    y_pred = predictions.max(1)[1].data\n",
    "    correct_samples += torch.sum(y_pred == y_batch)\n",
    "    total_samples += y_batch.shape[0]\n",
    "\n",
    "final_test_accuracy = float(correct_samples) / total_samples\n",
    "print(\"Final test accuracy - \", final_test_accuracy)"
   ]
  }
 ],
 "metadata": {
  "accelerator": "GPU",
  "colab": {
   "collapsed_sections": [],
   "name": "PyTorch_CNN.ipynb",
   "provenance": [],
   "version": "0.3.2"
  },
  "kernelspec": {
   "display_name": "Python 3",
   "language": "python",
   "name": "python3"
  },
  "language_info": {
   "codemirror_mode": {
    "name": "ipython",
    "version": 3
   },
   "file_extension": ".py",
   "mimetype": "text/x-python",
   "name": "python",
   "nbconvert_exporter": "python",
   "pygments_lexer": "ipython3",
   "version": "3.7.6"
  }
 },
 "nbformat": 4,
 "nbformat_minor": 1
}
