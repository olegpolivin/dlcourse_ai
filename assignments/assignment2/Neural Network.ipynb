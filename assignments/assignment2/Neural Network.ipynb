{
 "cells": [
  {
   "cell_type": "markdown",
   "metadata": {},
   "source": [
    "# Задание 2.1 - Нейронные сети\n",
    "\n",
    "В этом задании вы реализуете и натренируете настоящую нейроную сеть своими руками!\n",
    "\n",
    "В некотором смысле это будет расширением прошлого задания - нам нужно просто составить несколько линейных классификаторов вместе!\n",
    "\n",
    "<img src=\"https://i.redd.it/n9fgba8b0qr01.png\" alt=\"Stack_more_layers\" width=\"400px\"/>"
   ]
  },
  {
   "cell_type": "code",
   "execution_count": 1,
   "metadata": {},
   "outputs": [],
   "source": [
    "import numpy as np\n",
    "import matplotlib.pyplot as plt\n",
    "\n",
    "%matplotlib inline\n",
    "\n",
    "%load_ext autoreload\n",
    "%autoreload 2"
   ]
  },
  {
   "cell_type": "code",
   "execution_count": 2,
   "metadata": {},
   "outputs": [],
   "source": [
    "from dataset import load_svhn, random_split_train_val\n",
    "from gradient_check import check_layer_gradient, check_layer_param_gradient, check_model_gradient\n",
    "from layers import FullyConnectedLayer, ReLULayer\n",
    "from model import TwoLayerNet\n",
    "from trainer import Trainer, Dataset\n",
    "from optim import SGD, MomentumSGD\n",
    "from metrics import multiclass_accuracy"
   ]
  },
  {
   "cell_type": "markdown",
   "metadata": {},
   "source": [
    "# Загружаем данные\n",
    "\n",
    "И разделяем их на training и validation."
   ]
  },
  {
   "cell_type": "code",
   "execution_count": 3,
   "metadata": {},
   "outputs": [],
   "source": [
    "def prepare_for_neural_network(train_X, test_X):\n",
    "    train_flat = train_X.reshape(train_X.shape[0], -1).astype(np.float) / 255.0\n",
    "    test_flat = test_X.reshape(test_X.shape[0], -1).astype(np.float) / 255.0\n",
    "    \n",
    "    # Subtract mean\n",
    "    mean_image = np.mean(train_flat, axis = 0)\n",
    "    train_flat -= mean_image\n",
    "    test_flat -= mean_image\n",
    "    \n",
    "    return train_flat, test_flat\n",
    "    \n",
    "train_X, train_y, test_X, test_y = load_svhn(\"data\", max_train=10000, max_test=1000)    \n",
    "train_X, test_X = prepare_for_neural_network(train_X, test_X)\n",
    "# Split train into train and val\n",
    "train_X, train_y, val_X, val_y = random_split_train_val(train_X, train_y, num_val = 1000)"
   ]
  },
  {
   "cell_type": "markdown",
   "metadata": {},
   "source": [
    "# Как всегда, начинаем с кирпичиков\n",
    "\n",
    "Мы будем реализовывать необходимые нам слои по очереди. Каждый слой должен реализовать:\n",
    "- прямой проход (forward pass), который генерирует выход слоя по входу и запоминает необходимые данные\n",
    "- обратный проход (backward pass), который получает градиент по выходу слоя и вычисляет градиент по входу и по параметрам\n",
    "\n",
    "Начнем с ReLU, у которого параметров нет."
   ]
  },
  {
   "cell_type": "code",
   "execution_count": 4,
   "metadata": {
    "scrolled": false
   },
   "outputs": [
    {
     "name": "stdout",
     "output_type": "stream",
     "text": [
      "Gradient check passed!\n"
     ]
    }
   ],
   "source": [
    "# TODO: Implement ReLULayer layer in layers.py\n",
    "# Note: you'll need to copy implementation of the gradient_check function from the previous assignment\n",
    "\n",
    "X = np.array([[1,-2,3],\n",
    "              [-1, 2, 0.1]\n",
    "              ])\n",
    "\n",
    "assert check_layer_gradient(ReLULayer(), X)"
   ]
  },
  {
   "cell_type": "markdown",
   "metadata": {},
   "source": [
    "А теперь реализуем полносвязный слой (fully connected layer), у которого будет два массива параметров: W (weights) и B (bias).\n",
    "\n",
    "Все параметры наши слои будут использовать для параметров специальный класс `Param`, в котором будут храниться значения параметров и градиенты этих параметров, вычисляемые во время обратного прохода.\n",
    "\n",
    "Это даст возможность аккумулировать (суммировать) градиенты из разных частей функции потерь, например, из cross-entropy loss и regularization loss."
   ]
  },
  {
   "cell_type": "code",
   "execution_count": 5,
   "metadata": {},
   "outputs": [
    {
     "name": "stdout",
     "output_type": "stream",
     "text": [
      "Gradient check passed!\n",
      "Gradient check passed!\n",
      "Gradient check passed!\n"
     ]
    }
   ],
   "source": [
    "# TODO: Implement FullyConnected layer forward and backward methods\n",
    "assert check_layer_gradient(FullyConnectedLayer(3, 4), X)\n",
    "# TODO: Implement storing gradients for W and B\n",
    "assert check_layer_param_gradient(FullyConnectedLayer(3, 4), X, 'W')\n",
    "assert check_layer_param_gradient(FullyConnectedLayer(3, 4), X, 'B')"
   ]
  },
  {
   "cell_type": "markdown",
   "metadata": {},
   "source": [
    "## Создаем нейронную сеть\n",
    "\n",
    "Теперь мы реализуем простейшую нейронную сеть с двумя полносвязным слоями и нелинейностью ReLU. Реализуйте функцию `compute_loss_and_gradients`, она должна запустить прямой и обратный проход через оба слоя для вычисления градиентов.\n",
    "\n",
    "Не забудьте реализовать очистку градиентов в начале функции."
   ]
  },
  {
   "cell_type": "code",
   "execution_count": 6,
   "metadata": {},
   "outputs": [
    {
     "name": "stdout",
     "output_type": "stream",
     "text": [
      "Checking gradient for W_0\n",
      "Gradient check passed!\n",
      "Checking gradient for B_0\n",
      "Gradient check passed!\n",
      "Checking gradient for W_2\n",
      "Gradient check passed!\n",
      "Checking gradient for B_2\n",
      "Gradient check passed!\n"
     ]
    },
    {
     "data": {
      "text/plain": [
       "True"
      ]
     },
     "execution_count": 6,
     "metadata": {},
     "output_type": "execute_result"
    }
   ],
   "source": [
    "# TODO: In model.py, implement compute_loss_and_gradients function\n",
    "model = TwoLayerNet(n_input = train_X.shape[1], n_output = 10, hidden_layer_size = 3, reg = 0)\n",
    "loss = model.compute_loss_and_gradients(train_X[:2], train_y[:2])\n",
    "\n",
    "# TODO Now implement backward pass and aggregate all of the params\n",
    "check_model_gradient(model, train_X[:2], train_y[:2])"
   ]
  },
  {
   "cell_type": "markdown",
   "metadata": {},
   "source": [
    "Теперь добавьте к модели регуляризацию - она должна прибавляться к loss и делать свой вклад в градиенты."
   ]
  },
  {
   "cell_type": "code",
   "execution_count": 7,
   "metadata": {},
   "outputs": [
    {
     "name": "stdout",
     "output_type": "stream",
     "text": [
      "Checking gradient for W_0\n",
      "Gradient check passed!\n",
      "Checking gradient for B_0\n",
      "Gradient check passed!\n",
      "Checking gradient for W_2\n",
      "Gradient check passed!\n",
      "Checking gradient for B_2\n",
      "Gradient check passed!\n"
     ]
    },
    {
     "data": {
      "text/plain": [
       "True"
      ]
     },
     "execution_count": 7,
     "metadata": {},
     "output_type": "execute_result"
    }
   ],
   "source": [
    "# TODO Now implement l2 regularization in the forward and backward pass\n",
    "model_with_reg = TwoLayerNet(n_input = train_X.shape[1], n_output = 10, hidden_layer_size = 3, reg = 1e1)\n",
    "loss_with_reg = model_with_reg.compute_loss_and_gradients(train_X[:2], train_y[:2])\n",
    "assert loss_with_reg > loss and not np.isclose(loss_with_reg, loss), \\\n",
    "    \"Loss with regularization (%2.4f) should be higher than without it (%2.4f)!\" % (loss_with_reg, loss)\n",
    "\n",
    "check_model_gradient(model_with_reg, train_X[:2], train_y[:2])"
   ]
  },
  {
   "cell_type": "markdown",
   "metadata": {},
   "source": [
    "Также реализуем функцию предсказания (вычисления значения) модели на новых данных.\n",
    "\n",
    "Какое значение точности мы ожидаем увидеть до начала тренировки?"
   ]
  },
  {
   "cell_type": "code",
   "execution_count": 8,
   "metadata": {},
   "outputs": [
    {
     "data": {
      "text/plain": [
       "0.1"
      ]
     },
     "execution_count": 8,
     "metadata": {},
     "output_type": "execute_result"
    }
   ],
   "source": [
    "# Finally, implement predict function!\n",
    "\n",
    "# TODO: Implement predict function\n",
    "# What would be the value we expect?\n",
    "multiclass_accuracy(model_with_reg.predict(train_X[:30]), train_y[:30]) "
   ]
  },
  {
   "cell_type": "markdown",
   "metadata": {},
   "source": [
    "# Допишем код для процесса тренировки\n",
    "\n",
    "Если все реализовано корректно, значение функции ошибки должно уменьшаться с каждой эпохой, пусть и медленно. Не беспокойтесь пока про validation accuracy."
   ]
  },
  {
   "cell_type": "code",
   "execution_count": 22,
   "metadata": {},
   "outputs": [
    {
     "name": "stdout",
     "output_type": "stream",
     "text": [
      "Loss: 2.257349, Train accuracy: 0.196667, val accuracy: 0.206000\n",
      "Loss: 2.156543, Train accuracy: 0.196667, val accuracy: 0.206000\n",
      "Loss: 2.284460, Train accuracy: 0.196667, val accuracy: 0.206000\n",
      "Loss: 2.133622, Train accuracy: 0.196667, val accuracy: 0.206000\n",
      "Loss: 2.237598, Train accuracy: 0.196667, val accuracy: 0.206000\n",
      "Loss: 2.009313, Train accuracy: 0.196667, val accuracy: 0.206000\n",
      "Loss: 2.123666, Train accuracy: 0.196667, val accuracy: 0.206000\n",
      "Loss: 2.226096, Train accuracy: 0.196667, val accuracy: 0.206000\n",
      "Loss: 2.098399, Train accuracy: 0.202667, val accuracy: 0.210000\n",
      "Loss: 2.086190, Train accuracy: 0.227778, val accuracy: 0.237000\n",
      "Loss: 2.089915, Train accuracy: 0.250778, val accuracy: 0.251000\n",
      "Loss: 2.184890, Train accuracy: 0.264889, val accuracy: 0.265000\n",
      "Loss: 2.132385, Train accuracy: 0.286889, val accuracy: 0.285000\n",
      "Loss: 2.004860, Train accuracy: 0.321778, val accuracy: 0.328000\n",
      "Loss: 1.948629, Train accuracy: 0.359778, val accuracy: 0.364000\n",
      "Loss: 1.650998, Train accuracy: 0.391000, val accuracy: 0.383000\n",
      "Loss: 1.944239, Train accuracy: 0.419444, val accuracy: 0.402000\n",
      "Loss: 1.755136, Train accuracy: 0.449111, val accuracy: 0.434000\n",
      "Loss: 1.637437, Train accuracy: 0.473333, val accuracy: 0.458000\n",
      "Loss: 1.478885, Train accuracy: 0.486111, val accuracy: 0.467000\n"
     ]
    }
   ],
   "source": [
    "model = TwoLayerNet(n_input = train_X.shape[1], n_output = 10, hidden_layer_size = 100, reg = 1e-5)\n",
    "dataset = Dataset(train_X, train_y, val_X, val_y)\n",
    "trainer = Trainer(model, dataset, SGD(), learning_rate = 1e-2)\n",
    "\n",
    "# TODO Implement missing pieces in Trainer.fit function\n",
    "# You should expect loss to go down every epoch, even if it's slow\n",
    "loss_history, train_history, val_history = trainer.fit()"
   ]
  },
  {
   "cell_type": "code",
   "execution_count": 23,
   "metadata": {},
   "outputs": [
    {
     "data": {
      "text/plain": [
       "[<matplotlib.lines.Line2D at 0x124eccd90>]"
      ]
     },
     "execution_count": 23,
     "metadata": {},
     "output_type": "execute_result"
    },
    {
     "data": {
      "image/png": "[encoded data removed]",
      "text/plain": [
       "<Figure size 432x288 with 1 Axes>"
      ]
     },
     "metadata": {
      "needs_background": "light"
     },
     "output_type": "display_data"
    }
   ],
   "source": [
    "plt.plot(loss_history)"
   ]
  },
  {
   "cell_type": "code",
   "execution_count": 32,
   "metadata": {},
   "outputs": [
    {
     "data": {
      "text/plain": [
       "<matplotlib.legend.Legend at 0x12547ded0>"
      ]
     },
     "execution_count": 32,
     "metadata": {},
     "output_type": "execute_result"
    },
    {
     "data": {
      "image/png": "[encoded data removed]",
      "text/plain": [
       "<Figure size 432x288 with 1 Axes>"
      ]
     },
     "metadata": {
      "needs_background": "light"
     },
     "output_type": "display_data"
    }
   ],
   "source": [
    "plt.plot(train_history, label='Train accuracy')\n",
    "plt.plot(val_history, label='Val accuracy')\n",
    "plt.legend()"
   ]
  },
  {
   "cell_type": "markdown",
   "metadata": {},
   "source": [
    "# Улучшаем процесс тренировки\n",
    "\n",
    "Мы реализуем несколько ключевых оптимизаций, необходимых для тренировки современных нейросетей."
   ]
  },
  {
   "cell_type": "markdown",
   "metadata": {},
   "source": [
    "## Уменьшение скорости обучения (learning rate decay)\n",
    "\n",
    "Одна из необходимых оптимизаций во время тренировки нейронных сетей - постепенное уменьшение скорости обучения по мере тренировки.\n",
    "\n",
    "Один из стандартных методов - уменьшение скорости обучения (learning rate) каждые N эпох на коэффициент d (часто называемый decay). Значения N и d, как всегда, являются гиперпараметрами и должны подбираться на основе эффективности на проверочных данных (validation data). \n",
    "\n",
    "В нашем случае N будет равным 1."
   ]
  },
  {
   "cell_type": "code",
   "execution_count": 34,
   "metadata": {},
   "outputs": [
    {
     "name": "stdout",
     "output_type": "stream",
     "text": [
      "Loss: 2.282786, Train accuracy: 0.196667, val accuracy: 0.206000\n",
      "Loss: 2.234582, Train accuracy: 0.196667, val accuracy: 0.206000\n",
      "Loss: 2.145585, Train accuracy: 0.196667, val accuracy: 0.206000\n",
      "Loss: 2.196805, Train accuracy: 0.196667, val accuracy: 0.206000\n",
      "Loss: 2.287513, Train accuracy: 0.196667, val accuracy: 0.206000\n",
      "Loss: 2.248047, Train accuracy: 0.196667, val accuracy: 0.206000\n",
      "Loss: 2.186539, Train accuracy: 0.196667, val accuracy: 0.206000\n",
      "Loss: 1.912230, Train accuracy: 0.196667, val accuracy: 0.206000\n",
      "Loss: 2.256953, Train accuracy: 0.200556, val accuracy: 0.210000\n",
      "Loss: 1.962076, Train accuracy: 0.222889, val accuracy: 0.232000\n",
      "Loss: 1.949703, Train accuracy: 0.247222, val accuracy: 0.247000\n",
      "Loss: 2.092175, Train accuracy: 0.263444, val accuracy: 0.264000\n",
      "Loss: 1.871600, Train accuracy: 0.275111, val accuracy: 0.277000\n",
      "Loss: 1.807875, Train accuracy: 0.289778, val accuracy: 0.296000\n",
      "Loss: 1.756844, Train accuracy: 0.318333, val accuracy: 0.325000\n",
      "Loss: 1.824883, Train accuracy: 0.346667, val accuracy: 0.354000\n",
      "Loss: 1.744549, Train accuracy: 0.382667, val accuracy: 0.381000\n",
      "Loss: 1.768013, Train accuracy: 0.404778, val accuracy: 0.396000\n",
      "Loss: 1.550735, Train accuracy: 0.431556, val accuracy: 0.428000\n",
      "Loss: 1.865711, Train accuracy: 0.452667, val accuracy: 0.447000\n"
     ]
    }
   ],
   "source": [
    "# TODO Implement learning rate decay inside Trainer.fit method\n",
    "# Decay should happen once per epoch\n",
    "\n",
    "model = TwoLayerNet(n_input = train_X.shape[1], n_output = 10, hidden_layer_size = 100, reg = 1e-5)\n",
    "dataset = Dataset(train_X, train_y, val_X, val_y)\n",
    "trainer = Trainer(model, dataset, SGD(), learning_rate=1e-2, learning_rate_decay=0.99)\n",
    "\n",
    "initial_learning_rate = trainer.learning_rate\n",
    "loss_history, train_history, val_history = trainer.fit()\n",
    "\n",
    "assert trainer.learning_rate < initial_learning_rate, \"Learning rate should've been reduced\"\n",
    "assert trainer.learning_rate > 0.5*initial_learning_rate, \"Learning rate shouldn'tve been reduced that much!\""
   ]
  },
  {
   "cell_type": "markdown",
   "metadata": {},
   "source": [
    "# Накопление импульса (Momentum SGD)\n",
    "\n",
    "Другой большой класс оптимизаций - использование более эффективных методов градиентного спуска. Мы реализуем один из них - накопление импульса (Momentum SGD).\n",
    "\n",
    "Этот метод хранит скорость движения, использует градиент для ее изменения на каждом шаге, и изменяет веса пропорционально значению скорости.\n",
    "(Физическая аналогия: Вместо скорости градиенты теперь будут задавать ускорение, но будет присутствовать сила трения.)\n",
    "\n",
    "```\n",
    "velocity = momentum * velocity - learning_rate * gradient \n",
    "w = w + velocity\n",
    "```\n",
    "\n",
    "`momentum` здесь коэффициент затухания, который тоже является гиперпараметром (к счастью, для него часто есть хорошее значение по умолчанию, типичный диапазон -- 0.8-0.99).\n",
    "\n",
    "Несколько полезных ссылок, где метод разбирается более подробно:  \n",
    "http://cs231n.github.io/neural-networks-3/#sgd  \n",
    "https://distill.pub/2017/momentum/"
   ]
  },
  {
   "cell_type": "code",
   "execution_count": 40,
   "metadata": {},
   "outputs": [
    {
     "name": "stdout",
     "output_type": "stream",
     "text": [
      "Loss: 2.477746, Train accuracy: 0.207111, val accuracy: 0.218000\n",
      "Loss: 1.670014, Train accuracy: 0.377333, val accuracy: 0.381000\n",
      "Loss: 1.544592, Train accuracy: 0.542556, val accuracy: 0.545000\n",
      "Loss: 1.194426, Train accuracy: 0.619333, val accuracy: 0.606000\n",
      "Loss: 1.423355, Train accuracy: 0.669667, val accuracy: 0.641000\n",
      "Loss: 1.276991, Train accuracy: 0.686889, val accuracy: 0.669000\n",
      "Loss: 1.089824, Train accuracy: 0.732444, val accuracy: 0.689000\n",
      "Loss: 0.956152, Train accuracy: 0.745333, val accuracy: 0.704000\n",
      "Loss: 0.683732, Train accuracy: 0.736667, val accuracy: 0.702000\n",
      "Loss: 0.457056, Train accuracy: 0.760444, val accuracy: 0.704000\n",
      "Loss: 0.352953, Train accuracy: 0.785333, val accuracy: 0.716000\n",
      "Loss: 0.617933, Train accuracy: 0.788889, val accuracy: 0.719000\n",
      "Loss: 0.984979, Train accuracy: 0.787000, val accuracy: 0.709000\n",
      "Loss: 0.395877, Train accuracy: 0.812667, val accuracy: 0.717000\n",
      "Loss: 0.551306, Train accuracy: 0.820222, val accuracy: 0.728000\n",
      "Loss: 0.574415, Train accuracy: 0.837444, val accuracy: 0.735000\n",
      "Loss: 0.651523, Train accuracy: 0.834667, val accuracy: 0.740000\n",
      "Loss: 0.469890, Train accuracy: 0.822111, val accuracy: 0.734000\n",
      "Loss: 0.719930, Train accuracy: 0.828556, val accuracy: 0.711000\n",
      "Loss: 0.582533, Train accuracy: 0.867333, val accuracy: 0.753000\n"
     ]
    }
   ],
   "source": [
    "# TODO: Implement MomentumSGD.update function in optim.py\n",
    "\n",
    "model = TwoLayerNet(n_input = train_X.shape[1], n_output = 10, hidden_layer_size = 100, reg = 1e-5)\n",
    "dataset = Dataset(train_X, train_y, val_X, val_y)\n",
    "trainer = Trainer(model, dataset, MomentumSGD(), learning_rate=1e-2, learning_rate_decay=0.99)\n",
    "\n",
    "# You should see even better results than before!\n",
    "loss_history, train_history, val_history = trainer.fit()"
   ]
  },
  {
   "cell_type": "markdown",
   "metadata": {},
   "source": [
    "# Ну что, давайте уже тренировать сеть!"
   ]
  },
  {
   "cell_type": "markdown",
   "metadata": {},
   "source": [
    "## Последний тест - переобучимся (overfit) на маленьком наборе данных\n",
    "\n",
    "Хороший способ проверить, все ли реализовано корректно - переобучить сеть на маленьком наборе данных.  \n",
    "Наша модель обладает достаточной мощностью, чтобы приблизить маленький набор данных идеально, поэтому мы ожидаем, что на нем мы быстро дойдем до 100% точности на тренировочном наборе. \n",
    "\n",
    "Если этого не происходит, то где-то была допущена ошибка!"
   ]
  },
  {
   "cell_type": "code",
   "execution_count": 47,
   "metadata": {},
   "outputs": [
    {
     "name": "stdout",
     "output_type": "stream",
     "text": [
      "Loss: 2.335231, Train accuracy: 0.266667, val accuracy: 0.066667\n",
      "Loss: 2.335398, Train accuracy: 0.333333, val accuracy: 0.066667\n",
      "Loss: 2.295406, Train accuracy: 0.333333, val accuracy: 0.066667\n",
      "Loss: 2.281863, Train accuracy: 0.200000, val accuracy: 0.133333\n",
      "Loss: 2.321520, Train accuracy: 0.266667, val accuracy: 0.000000\n",
      "Loss: 2.309492, Train accuracy: 0.266667, val accuracy: 0.000000\n",
      "Loss: 2.258361, Train accuracy: 0.200000, val accuracy: 0.066667\n",
      "Loss: 2.284447, Train accuracy: 0.266667, val accuracy: 0.000000\n",
      "Loss: 2.118838, Train accuracy: 0.266667, val accuracy: 0.000000\n",
      "Loss: 1.894776, Train accuracy: 0.400000, val accuracy: 0.000000\n",
      "Loss: 1.841060, Train accuracy: 0.400000, val accuracy: 0.000000\n",
      "Loss: 2.200363, Train accuracy: 0.400000, val accuracy: 0.000000\n",
      "Loss: 1.900459, Train accuracy: 0.400000, val accuracy: 0.000000\n",
      "Loss: 2.350083, Train accuracy: 0.333333, val accuracy: 0.000000\n",
      "Loss: 1.765621, Train accuracy: 0.333333, val accuracy: 0.000000\n",
      "Loss: 2.058465, Train accuracy: 0.333333, val accuracy: 0.000000\n",
      "Loss: 1.656963, Train accuracy: 0.333333, val accuracy: 0.000000\n",
      "Loss: 2.164954, Train accuracy: 0.400000, val accuracy: 0.000000\n",
      "Loss: 1.657344, Train accuracy: 0.400000, val accuracy: 0.000000\n",
      "Loss: 2.347882, Train accuracy: 0.400000, val accuracy: 0.000000\n",
      "Loss: 1.693521, Train accuracy: 0.400000, val accuracy: 0.000000\n",
      "Loss: 2.145503, Train accuracy: 0.400000, val accuracy: 0.000000\n",
      "Loss: 1.513284, Train accuracy: 0.400000, val accuracy: 0.000000\n",
      "Loss: 1.985874, Train accuracy: 0.466667, val accuracy: 0.000000\n",
      "Loss: 1.983627, Train accuracy: 0.466667, val accuracy: 0.000000\n",
      "Loss: 1.553925, Train accuracy: 0.466667, val accuracy: 0.066667\n",
      "Loss: 2.014392, Train accuracy: 0.466667, val accuracy: 0.000000\n",
      "Loss: 2.035584, Train accuracy: 0.466667, val accuracy: 0.000000\n",
      "Loss: 1.515096, Train accuracy: 0.466667, val accuracy: 0.066667\n",
      "Loss: 2.013821, Train accuracy: 0.533333, val accuracy: 0.066667\n",
      "Loss: 1.651064, Train accuracy: 0.466667, val accuracy: 0.066667\n",
      "Loss: 1.984239, Train accuracy: 0.600000, val accuracy: 0.066667\n",
      "Loss: 1.678077, Train accuracy: 0.600000, val accuracy: 0.066667\n",
      "Loss: 1.779123, Train accuracy: 0.666667, val accuracy: 0.066667\n",
      "Loss: 1.649719, Train accuracy: 0.666667, val accuracy: 0.066667\n",
      "Loss: 1.599322, Train accuracy: 0.533333, val accuracy: 0.066667\n",
      "Loss: 1.479175, Train accuracy: 0.666667, val accuracy: 0.066667\n",
      "Loss: 2.161599, Train accuracy: 0.666667, val accuracy: 0.066667\n",
      "Loss: 1.567347, Train accuracy: 0.666667, val accuracy: 0.066667\n",
      "Loss: 1.812854, Train accuracy: 0.666667, val accuracy: 0.066667\n",
      "Loss: 1.823061, Train accuracy: 0.666667, val accuracy: 0.000000\n",
      "Loss: 1.008352, Train accuracy: 0.666667, val accuracy: 0.066667\n",
      "Loss: 1.079440, Train accuracy: 0.733333, val accuracy: 0.066667\n",
      "Loss: 1.555739, Train accuracy: 0.666667, val accuracy: 0.000000\n",
      "Loss: 1.474699, Train accuracy: 0.666667, val accuracy: 0.066667\n",
      "Loss: 1.366782, Train accuracy: 0.666667, val accuracy: 0.066667\n",
      "Loss: 1.302327, Train accuracy: 0.733333, val accuracy: 0.066667\n",
      "Loss: 1.619285, Train accuracy: 0.733333, val accuracy: 0.133333\n",
      "Loss: 1.661670, Train accuracy: 0.733333, val accuracy: 0.066667\n",
      "Loss: 1.954083, Train accuracy: 0.666667, val accuracy: 0.000000\n",
      "Loss: 1.417140, Train accuracy: 0.733333, val accuracy: 0.066667\n",
      "Loss: 1.239371, Train accuracy: 0.733333, val accuracy: 0.066667\n",
      "Loss: 1.667747, Train accuracy: 0.733333, val accuracy: 0.066667\n",
      "Loss: 0.708231, Train accuracy: 0.733333, val accuracy: 0.066667\n",
      "Loss: 1.535356, Train accuracy: 0.733333, val accuracy: 0.066667\n",
      "Loss: 1.480927, Train accuracy: 0.733333, val accuracy: 0.066667\n",
      "Loss: 1.369449, Train accuracy: 0.733333, val accuracy: 0.000000\n",
      "Loss: 1.722858, Train accuracy: 0.733333, val accuracy: 0.066667\n",
      "Loss: 1.602700, Train accuracy: 0.733333, val accuracy: 0.066667\n",
      "Loss: 1.223797, Train accuracy: 0.733333, val accuracy: 0.066667\n",
      "Loss: 1.242618, Train accuracy: 0.733333, val accuracy: 0.066667\n",
      "Loss: 1.619644, Train accuracy: 0.733333, val accuracy: 0.066667\n",
      "Loss: 1.675545, Train accuracy: 0.733333, val accuracy: 0.066667\n",
      "Loss: 1.910951, Train accuracy: 0.733333, val accuracy: 0.066667\n",
      "Loss: 1.005273, Train accuracy: 0.800000, val accuracy: 0.066667\n",
      "Loss: 1.206812, Train accuracy: 0.800000, val accuracy: 0.066667\n",
      "Loss: 0.895029, Train accuracy: 0.866667, val accuracy: 0.066667\n",
      "Loss: 1.254798, Train accuracy: 0.866667, val accuracy: 0.066667\n",
      "Loss: 1.948347, Train accuracy: 0.866667, val accuracy: 0.066667\n",
      "Loss: 1.603178, Train accuracy: 0.866667, val accuracy: 0.066667\n",
      "Loss: 1.612660, Train accuracy: 0.933333, val accuracy: 0.066667\n",
      "Loss: 1.567572, Train accuracy: 0.933333, val accuracy: 0.066667\n",
      "Loss: 1.338671, Train accuracy: 0.933333, val accuracy: 0.066667\n",
      "Loss: 1.677150, Train accuracy: 0.933333, val accuracy: 0.066667\n",
      "Loss: 1.186417, Train accuracy: 0.933333, val accuracy: 0.066667\n",
      "Loss: 1.237661, Train accuracy: 0.933333, val accuracy: 0.066667\n",
      "Loss: 1.565372, Train accuracy: 0.933333, val accuracy: 0.066667\n",
      "Loss: 1.034595, Train accuracy: 0.933333, val accuracy: 0.066667\n",
      "Loss: 1.270859, Train accuracy: 0.933333, val accuracy: 0.066667\n",
      "Loss: 1.606872, Train accuracy: 0.933333, val accuracy: 0.066667\n",
      "Loss: 1.590533, Train accuracy: 0.933333, val accuracy: 0.066667\n",
      "Loss: 1.294420, Train accuracy: 0.933333, val accuracy: 0.066667\n",
      "Loss: 1.417491, Train accuracy: 0.933333, val accuracy: 0.066667\n",
      "Loss: 1.382075, Train accuracy: 0.933333, val accuracy: 0.066667\n",
      "Loss: 1.270893, Train accuracy: 0.933333, val accuracy: 0.066667\n",
      "Loss: 1.203885, Train accuracy: 0.933333, val accuracy: 0.066667\n",
      "Loss: 1.352186, Train accuracy: 0.933333, val accuracy: 0.066667\n",
      "Loss: 0.947821, Train accuracy: 0.933333, val accuracy: 0.066667\n",
      "Loss: 1.528860, Train accuracy: 0.933333, val accuracy: 0.066667\n",
      "Loss: 1.671353, Train accuracy: 0.933333, val accuracy: 0.066667\n",
      "Loss: 1.246595, Train accuracy: 0.933333, val accuracy: 0.066667\n",
      "Loss: 1.782472, Train accuracy: 0.933333, val accuracy: 0.066667\n",
      "Loss: 1.590990, Train accuracy: 0.933333, val accuracy: 0.066667\n",
      "Loss: 1.005921, Train accuracy: 0.933333, val accuracy: 0.000000\n",
      "Loss: 1.652412, Train accuracy: 0.933333, val accuracy: 0.000000\n",
      "Loss: 1.369474, Train accuracy: 0.933333, val accuracy: 0.000000\n",
      "Loss: 1.331557, Train accuracy: 0.933333, val accuracy: 0.000000\n",
      "Loss: 1.296878, Train accuracy: 0.933333, val accuracy: 0.000000\n",
      "Loss: 1.130422, Train accuracy: 0.933333, val accuracy: 0.000000\n",
      "Loss: 1.571685, Train accuracy: 0.933333, val accuracy: 0.000000\n",
      "Loss: 1.436358, Train accuracy: 0.933333, val accuracy: 0.000000\n",
      "Loss: 0.998381, Train accuracy: 0.933333, val accuracy: 0.000000\n",
      "Loss: 1.535568, Train accuracy: 0.933333, val accuracy: 0.000000\n",
      "Loss: 1.488000, Train accuracy: 0.933333, val accuracy: 0.000000\n",
      "Loss: 1.194673, Train accuracy: 0.933333, val accuracy: 0.000000\n",
      "Loss: 1.731415, Train accuracy: 0.933333, val accuracy: 0.000000\n",
      "Loss: 1.300332, Train accuracy: 0.933333, val accuracy: 0.000000\n",
      "Loss: 1.375145, Train accuracy: 1.000000, val accuracy: 0.000000\n",
      "Loss: 1.327631, Train accuracy: 1.000000, val accuracy: 0.000000\n",
      "Loss: 1.172868, Train accuracy: 1.000000, val accuracy: 0.000000\n",
      "Loss: 1.342957, Train accuracy: 0.933333, val accuracy: 0.000000\n",
      "Loss: 1.453401, Train accuracy: 1.000000, val accuracy: 0.000000\n",
      "Loss: 1.496351, Train accuracy: 1.000000, val accuracy: 0.000000\n",
      "Loss: 1.340585, Train accuracy: 1.000000, val accuracy: 0.000000\n",
      "Loss: 1.291423, Train accuracy: 1.000000, val accuracy: 0.000000\n",
      "Loss: 1.206443, Train accuracy: 1.000000, val accuracy: 0.000000\n",
      "Loss: 1.422890, Train accuracy: 1.000000, val accuracy: 0.000000\n",
      "Loss: 1.206947, Train accuracy: 1.000000, val accuracy: 0.000000\n",
      "Loss: 1.203456, Train accuracy: 0.933333, val accuracy: 0.000000\n",
      "Loss: 1.176978, Train accuracy: 1.000000, val accuracy: 0.000000\n",
      "Loss: 1.376045, Train accuracy: 1.000000, val accuracy: 0.000000\n",
      "Loss: 1.095767, Train accuracy: 0.933333, val accuracy: 0.000000\n",
      "Loss: 1.344160, Train accuracy: 1.000000, val accuracy: 0.000000\n",
      "Loss: 1.555067, Train accuracy: 1.000000, val accuracy: 0.000000\n",
      "Loss: 1.422940, Train accuracy: 1.000000, val accuracy: 0.000000\n",
      "Loss: 1.214594, Train accuracy: 1.000000, val accuracy: 0.000000\n",
      "Loss: 1.116422, Train accuracy: 1.000000, val accuracy: 0.000000\n",
      "Loss: 1.014563, Train accuracy: 1.000000, val accuracy: 0.000000\n",
      "Loss: 1.568630, Train accuracy: 1.000000, val accuracy: 0.000000\n",
      "Loss: 1.277445, Train accuracy: 1.000000, val accuracy: 0.000000\n",
      "Loss: 1.455414, Train accuracy: 1.000000, val accuracy: 0.000000\n",
      "Loss: 1.301567, Train accuracy: 1.000000, val accuracy: 0.000000\n",
      "Loss: 1.490663, Train accuracy: 1.000000, val accuracy: 0.000000\n",
      "Loss: 1.126107, Train accuracy: 1.000000, val accuracy: 0.000000\n",
      "Loss: 1.272208, Train accuracy: 1.000000, val accuracy: 0.000000\n",
      "Loss: 1.326268, Train accuracy: 1.000000, val accuracy: 0.000000\n",
      "Loss: 1.212037, Train accuracy: 1.000000, val accuracy: 0.000000\n",
      "Loss: 1.204702, Train accuracy: 1.000000, val accuracy: 0.000000\n",
      "Loss: 1.132987, Train accuracy: 1.000000, val accuracy: 0.000000\n",
      "Loss: 1.196286, Train accuracy: 1.000000, val accuracy: 0.000000\n",
      "Loss: 1.344779, Train accuracy: 1.000000, val accuracy: 0.000000\n",
      "Loss: 1.385094, Train accuracy: 1.000000, val accuracy: 0.000000\n",
      "Loss: 1.405613, Train accuracy: 1.000000, val accuracy: 0.000000\n",
      "Loss: 1.386572, Train accuracy: 1.000000, val accuracy: 0.000000\n",
      "Loss: 1.455443, Train accuracy: 1.000000, val accuracy: 0.000000\n",
      "Loss: 1.506528, Train accuracy: 1.000000, val accuracy: 0.000000\n"
     ]
    },
    {
     "name": "stdout",
     "output_type": "stream",
     "text": [
      "Loss: 1.128289, Train accuracy: 1.000000, val accuracy: 0.000000\n",
      "Loss: 1.279278, Train accuracy: 1.000000, val accuracy: 0.000000\n",
      "Loss: 1.353710, Train accuracy: 1.000000, val accuracy: 0.000000\n",
      "Loss: 1.394760, Train accuracy: 1.000000, val accuracy: 0.000000\n"
     ]
    }
   ],
   "source": [
    "data_size = 15\n",
    "model = TwoLayerNet(n_input = train_X.shape[1], n_output = 10, hidden_layer_size = 100, reg = 1e-1)\n",
    "dataset = Dataset(train_X[:data_size], train_y[:data_size], val_X[:data_size], val_y[:data_size])\n",
    "trainer = Trainer(model, dataset, SGD(), learning_rate=1e-1, num_epochs=150, batch_size=5)\n",
    "\n",
    "# You should expect this to reach 1.0 training accuracy \n",
    "loss_history, train_history, val_history = trainer.fit()"
   ]
  },
  {
   "cell_type": "markdown",
   "metadata": {},
   "source": [
    "Теперь найдем гипепараметры, для которых этот процесс сходится быстрее.\n",
    "Если все реализовано корректно, то существуют параметры, при которых процесс сходится в **20** эпох или еще быстрее.\n",
    "Найдите их!"
   ]
  },
  {
   "cell_type": "code",
   "execution_count": 86,
   "metadata": {
    "collapsed": true
   },
   "outputs": [
    {
     "name": "stdout",
     "output_type": "stream",
     "text": [
      "Loss: 2.330895, Train accuracy: 0.200000, val accuracy: 0.066667\n",
      "Loss: 2.254492, Train accuracy: 0.266667, val accuracy: 0.000000\n",
      "Loss: 2.134727, Train accuracy: 0.266667, val accuracy: 0.000000\n",
      "Loss: 2.250895, Train accuracy: 0.333333, val accuracy: 0.066667\n",
      "Loss: 1.747145, Train accuracy: 0.466667, val accuracy: 0.000000\n",
      "Loss: 1.728131, Train accuracy: 0.400000, val accuracy: 0.000000\n",
      "Loss: 1.641526, Train accuracy: 0.333333, val accuracy: 0.066667\n",
      "Loss: 1.654881, Train accuracy: 0.533333, val accuracy: 0.000000\n",
      "Loss: 2.000118, Train accuracy: 0.533333, val accuracy: 0.000000\n",
      "Loss: 1.303145, Train accuracy: 0.466667, val accuracy: 0.000000\n",
      "Loss: 1.371834, Train accuracy: 0.666667, val accuracy: 0.000000\n",
      "Loss: 1.206700, Train accuracy: 0.666667, val accuracy: 0.000000\n",
      "Loss: 1.251464, Train accuracy: 0.600000, val accuracy: 0.000000\n",
      "Loss: 0.635919, Train accuracy: 0.800000, val accuracy: 0.000000\n",
      "Loss: 0.706850, Train accuracy: 0.866667, val accuracy: 0.000000\n",
      "Loss: 0.927683, Train accuracy: 0.933333, val accuracy: 0.000000\n",
      "Loss: 0.144015, Train accuracy: 1.000000, val accuracy: 0.000000\n",
      "Loss: 0.421437, Train accuracy: 1.000000, val accuracy: 0.000000\n",
      "Loss: 0.268370, Train accuracy: 1.000000, val accuracy: 0.000000\n",
      "Loss: 0.281188, Train accuracy: 1.000000, val accuracy: 0.000000\n"
     ]
    }
   ],
   "source": [
    "# Now, tweak some hyper parameters and make it train to 1.0 accuracy in 20 epochs or less\n",
    "\n",
    "model = TwoLayerNet(n_input = train_X.shape[1], n_output = 10, hidden_layer_size = 100, reg = 1e-3)\n",
    "dataset = Dataset(train_X[:data_size], train_y[:data_size], val_X[:data_size], val_y[:data_size])\n",
    "# TODO: Change any hyperparamers or optimizators to reach training accuracy in 20 epochs\n",
    "trainer = Trainer(model, dataset, SGD(), learning_rate=0.33, num_epochs=20, batch_size=5)\n",
    "\n",
    "loss_history, train_history, val_history = trainer.fit()"
   ]
  },
  {
   "cell_type": "markdown",
   "metadata": {},
   "source": [
    "# Итак, основное мероприятие!\n",
    "\n",
    "Натренируйте лучшую нейросеть! Можно добавлять и изменять параметры, менять количество нейронов в слоях сети и как угодно экспериментировать. \n",
    "\n",
    "Добейтесь точности лучше **60%** на validation set."
   ]
  },
  {
   "cell_type": "markdown",
   "metadata": {},
   "source": [
    "The idea will be the following: first, we choose among large range of parameters, and then I will adjust further."
   ]
  },
  {
   "cell_type": "code",
   "execution_count": 102,
   "metadata": {
    "scrolled": true
   },
   "outputs": [
    {
     "name": "stdout",
     "output_type": "stream",
     "text": [
      "Fitting: learning rate = 0.01, regularization strength = 1e-05, learning rate decay = 0.9, hidden_layer_size = 100\n",
      "Resulting accuracy is 0.639\n",
      "\n",
      "Fitting: learning rate = 0.01, regularization strength = 1e-05, learning rate decay = 0.9, hidden_layer_size = 200\n"
     ]
    },
    {
     "ename": "KeyboardInterrupt",
     "evalue": "",
     "output_type": "error",
     "traceback": [
      "\u001b[0;31m----------------------------------------------------------------------\u001b[0m",
      "\u001b[0;31mKeyboardInterrupt\u001b[0m                    Traceback (most recent call last)",
      "\u001b[0;32m<ipython-input-102-a5cbbb217aea>\u001b[0m in \u001b[0;36m<module>\u001b[0;34m\u001b[0m\n\u001b[1;32m     36\u001b[0m                 \u001b[0mprint\u001b[0m\u001b[0;34m(\u001b[0m\u001b[0;34mf'Fitting: learning rate = {lr}, regularization strength = {reg}, learning rate decay = {lrd}, hidden_layer_size = {hidden_layer_s}'\u001b[0m \u001b[0;34m)\u001b[0m\u001b[0;34m\u001b[0m\u001b[0;34m\u001b[0m\u001b[0m\n\u001b[1;32m     37\u001b[0m \u001b[0;34m\u001b[0m\u001b[0m\n\u001b[0;32m---> 38\u001b[0;31m                 \u001b[0mloss_history\u001b[0m\u001b[0;34m,\u001b[0m \u001b[0mtrain_history\u001b[0m\u001b[0;34m,\u001b[0m \u001b[0mval_history\u001b[0m \u001b[0;34m=\u001b[0m \u001b[0mtrainer\u001b[0m\u001b[0;34m.\u001b[0m\u001b[0mfit\u001b[0m\u001b[0;34m(\u001b[0m\u001b[0;34m)\u001b[0m\u001b[0;34m\u001b[0m\u001b[0;34m\u001b[0m\u001b[0m\n\u001b[0m\u001b[1;32m     39\u001b[0m                 \u001b[0mcoef_to_val_accuracy\u001b[0m\u001b[0;34m[\u001b[0m\u001b[0;34m(\u001b[0m\u001b[0mlr\u001b[0m\u001b[0;34m,\u001b[0m \u001b[0mreg\u001b[0m\u001b[0;34m,\u001b[0m \u001b[0mhidden_layer_s\u001b[0m\u001b[0;34m)\u001b[0m\u001b[0;34m]\u001b[0m \u001b[0;34m=\u001b[0m \u001b[0mval_history\u001b[0m\u001b[0;34m[\u001b[0m\u001b[0;34m-\u001b[0m\u001b[0;36m1\u001b[0m\u001b[0;34m]\u001b[0m\u001b[0;34m\u001b[0m\u001b[0;34m\u001b[0m\u001b[0m\n\u001b[1;32m     40\u001b[0m                 \u001b[0mprint\u001b[0m\u001b[0;34m(\u001b[0m\u001b[0;34mf'Resulting accuracy is {val_history[-1]}\\n'\u001b[0m\u001b[0;34m)\u001b[0m\u001b[0;34m\u001b[0m\u001b[0;34m\u001b[0m\u001b[0m\n",
      "\u001b[0;32m~/Desktop/storytelling/ML/Courses/cs/CSC/S2/dlcourse_ai/assignments/assignment2/trainer.py\u001b[0m in \u001b[0;36mfit\u001b[0;34m(self)\u001b[0m\n\u001b[1;32m    117\u001b[0m \u001b[0;34m\u001b[0m\u001b[0m\n\u001b[1;32m    118\u001b[0m             train_accuracy = self.compute_accuracy(self.dataset.train_X,\n\u001b[0;32m--> 119\u001b[0;31m                                                    self.dataset.train_y)\n\u001b[0m\u001b[1;32m    120\u001b[0m \u001b[0;34m\u001b[0m\u001b[0m\n\u001b[1;32m    121\u001b[0m             val_accuracy = self.compute_accuracy(self.dataset.val_X,\n",
      "\u001b[0;32m~/Desktop/storytelling/ML/Courses/cs/CSC/S2/dlcourse_ai/assignments/assignment2/trainer.py\u001b[0m in \u001b[0;36mcompute_accuracy\u001b[0;34m(self, X, y)\u001b[0m\n\u001b[1;32m     70\u001b[0m         \u001b[0;32mfor\u001b[0m \u001b[0mbatch_indices\u001b[0m \u001b[0;32min\u001b[0m \u001b[0mbatches_indices\u001b[0m\u001b[0;34m:\u001b[0m\u001b[0;34m\u001b[0m\u001b[0;34m\u001b[0m\u001b[0m\n\u001b[1;32m     71\u001b[0m             \u001b[0mbatch_X\u001b[0m \u001b[0;34m=\u001b[0m \u001b[0mX\u001b[0m\u001b[0;34m[\u001b[0m\u001b[0mbatch_indices\u001b[0m\u001b[0;34m]\u001b[0m\u001b[0;34m\u001b[0m\u001b[0;34m\u001b[0m\u001b[0m\n\u001b[0;32m---> 72\u001b[0;31m             \u001b[0mpred_batch\u001b[0m \u001b[0;34m=\u001b[0m \u001b[0mself\u001b[0m\u001b[0;34m.\u001b[0m\u001b[0mmodel\u001b[0m\u001b[0;34m.\u001b[0m\u001b[0mpredict\u001b[0m\u001b[0;34m(\u001b[0m\u001b[0mbatch_X\u001b[0m\u001b[0;34m)\u001b[0m\u001b[0;34m\u001b[0m\u001b[0;34m\u001b[0m\u001b[0m\n\u001b[0m\u001b[1;32m     73\u001b[0m             \u001b[0mpred\u001b[0m\u001b[0;34m[\u001b[0m\u001b[0mbatch_indices\u001b[0m\u001b[0;34m]\u001b[0m \u001b[0;34m=\u001b[0m \u001b[0mpred_batch\u001b[0m\u001b[0;34m\u001b[0m\u001b[0;34m\u001b[0m\u001b[0m\n\u001b[1;32m     74\u001b[0m \u001b[0;34m\u001b[0m\u001b[0m\n",
      "\u001b[0;32m~/Desktop/storytelling/ML/Courses/cs/CSC/S2/dlcourse_ai/assignments/assignment2/model.py\u001b[0m in \u001b[0;36mpredict\u001b[0;34m(self, X)\u001b[0m\n\u001b[1;32m     76\u001b[0m         \u001b[0mpred\u001b[0m \u001b[0;34m=\u001b[0m \u001b[0mX\u001b[0m\u001b[0;34m\u001b[0m\u001b[0;34m\u001b[0m\u001b[0m\n\u001b[1;32m     77\u001b[0m         \u001b[0;32mfor\u001b[0m \u001b[0mmodule\u001b[0m \u001b[0;32min\u001b[0m \u001b[0mself\u001b[0m\u001b[0;34m.\u001b[0m\u001b[0msequential\u001b[0m\u001b[0;34m:\u001b[0m\u001b[0;34m\u001b[0m\u001b[0;34m\u001b[0m\u001b[0m\n\u001b[0;32m---> 78\u001b[0;31m           \u001b[0mpred\u001b[0m \u001b[0;34m=\u001b[0m \u001b[0mmodule\u001b[0m\u001b[0;34m.\u001b[0m\u001b[0mforward\u001b[0m\u001b[0;34m(\u001b[0m\u001b[0mpred\u001b[0m\u001b[0;34m)\u001b[0m\u001b[0;34m\u001b[0m\u001b[0;34m\u001b[0m\u001b[0m\n\u001b[0m\u001b[1;32m     79\u001b[0m         \u001b[0mpred\u001b[0m \u001b[0;34m=\u001b[0m \u001b[0mnp\u001b[0m\u001b[0;34m.\u001b[0m\u001b[0margmax\u001b[0m\u001b[0;34m(\u001b[0m\u001b[0mpred\u001b[0m\u001b[0;34m,\u001b[0m \u001b[0maxis\u001b[0m\u001b[0;34m=\u001b[0m\u001b[0;36m1\u001b[0m\u001b[0;34m)\u001b[0m\u001b[0;34m\u001b[0m\u001b[0;34m\u001b[0m\u001b[0m\n\u001b[1;32m     80\u001b[0m         \u001b[0;32mreturn\u001b[0m \u001b[0mpred\u001b[0m\u001b[0;34m\u001b[0m\u001b[0;34m\u001b[0m\u001b[0m\n",
      "\u001b[0;32m~/Desktop/storytelling/ML/Courses/cs/CSC/S2/dlcourse_ai/assignments/assignment2/layers.py\u001b[0m in \u001b[0;36mforward\u001b[0;34m(self, X)\u001b[0m\n\u001b[1;32m    152\u001b[0m         \u001b[0mself\u001b[0m\u001b[0;34m.\u001b[0m\u001b[0mX\u001b[0m \u001b[0;34m=\u001b[0m \u001b[0mX\u001b[0m\u001b[0;34m\u001b[0m\u001b[0;34m\u001b[0m\u001b[0m\n\u001b[1;32m    153\u001b[0m         \u001b[0mW\u001b[0m\u001b[0;34m,\u001b[0m \u001b[0mB\u001b[0m \u001b[0;34m=\u001b[0m \u001b[0mself\u001b[0m\u001b[0;34m.\u001b[0m\u001b[0mparams\u001b[0m\u001b[0;34m(\u001b[0m\u001b[0;34m)\u001b[0m\u001b[0;34m[\u001b[0m\u001b[0;34m'W'\u001b[0m\u001b[0;34m]\u001b[0m\u001b[0;34m.\u001b[0m\u001b[0mvalue\u001b[0m\u001b[0;34m,\u001b[0m \u001b[0mself\u001b[0m\u001b[0;34m.\u001b[0m\u001b[0mparams\u001b[0m\u001b[0;34m(\u001b[0m\u001b[0;34m)\u001b[0m\u001b[0;34m[\u001b[0m\u001b[0;34m'B'\u001b[0m\u001b[0;34m]\u001b[0m\u001b[0;34m.\u001b[0m\u001b[0mvalue\u001b[0m\u001b[0;34m\u001b[0m\u001b[0;34m\u001b[0m\u001b[0m\n\u001b[0;32m--> 154\u001b[0;31m         \u001b[0mout\u001b[0m \u001b[0;34m=\u001b[0m \u001b[0mnp\u001b[0m\u001b[0;34m.\u001b[0m\u001b[0mdot\u001b[0m\u001b[0;34m(\u001b[0m\u001b[0mX\u001b[0m\u001b[0;34m,\u001b[0m \u001b[0mW\u001b[0m\u001b[0;34m)\u001b[0m \u001b[0;34m+\u001b[0m \u001b[0mB\u001b[0m\u001b[0;34m\u001b[0m\u001b[0;34m\u001b[0m\u001b[0m\n\u001b[0m\u001b[1;32m    155\u001b[0m         \u001b[0;32mreturn\u001b[0m \u001b[0mout\u001b[0m\u001b[0;34m\u001b[0m\u001b[0;34m\u001b[0m\u001b[0m\n\u001b[1;32m    156\u001b[0m \u001b[0;34m\u001b[0m\u001b[0m\n",
      "\u001b[0;32m<__array_function__ internals>\u001b[0m in \u001b[0;36mdot\u001b[0;34m(*args, **kwargs)\u001b[0m\n",
      "\u001b[0;31mKeyboardInterrupt\u001b[0m: "
     ]
    }
   ],
   "source": [
    "# Let's train the best one-hidden-layer network we can\n",
    "\n",
    "learning_rates = [1e-2, 1e-1, 0.35]\n",
    "reg_strength = [1e-5, 1e-4]\n",
    "learning_rate_decay = [0.9, 0.99, 0.999]\n",
    "hidden_layer_size = [100, 200, 300]\n",
    "num_epochs = 200\n",
    "batch_size = 64\n",
    "\n",
    "best_classifier = None\n",
    "best_val_accuracy = -1\n",
    "coef_to_val_accuracy = {}\n",
    "\n",
    "loss_history = []\n",
    "train_history = []\n",
    "val_history = []\n",
    "\n",
    "\n",
    "# TODO find the best hyperparameters to train the network\n",
    "# Don't hesitate to add new values to the arrays above, perform experiments, use any tricks you want\n",
    "# You should expect to get to at least 40% of valudation accuracy\n",
    "# Save loss/train/history of the best classifier to the variables above\n",
    "dataset = Dataset(train_X, train_y, val_X, val_y)\n",
    "for lr in learning_rates:\n",
    "    for reg in reg_strength:\n",
    "        for lrd in learning_rate_decay:\n",
    "            for hidden_layer_s in hidden_layer_size:\n",
    "                model = TwoLayerNet(n_input = train_X.shape[1], n_output = 10, hidden_layer_size = hidden_layer_s, reg = reg)\n",
    "                trainer = Trainer(model,\n",
    "                                  dataset,\n",
    "                                  MomentumSGD(),\n",
    "                                  num_epochs = num_epochs,\n",
    "                                  batch_size = batch_size,\n",
    "                                  learning_rate=lr,\n",
    "                                  learning_rate_decay=lrd)\n",
    "                print(f'Fitting: learning rate = {lr}, regularization strength = {reg}, learning rate decay = {lrd}, hidden_layer_size = {hidden_layer_s}' )\n",
    "\n",
    "                loss_history, train_history, val_history = trainer.fit()\n",
    "                coef_to_val_accuracy[(lr, reg, hidden_layer_s)] = val_history[-1]\n",
    "                print(f'Resulting accuracy is {val_history[-1]}\\n')\n",
    "                if val_history[-1] > best_val_accuracy:\n",
    "                    best_classifier = model\n",
    "                    best_val_accuracy = val_history[-1]\n",
    "print('best validation accuracy achieved: %f' % best_val_accuracy)"
   ]
  },
  {
   "cell_type": "code",
   "execution_count": null,
   "metadata": {},
   "outputs": [],
   "source": [
    "plt.figure(figsize=(15, 7))\n",
    "plt.subplot(211)\n",
    "plt.title(\"Loss\")\n",
    "plt.plot(loss_history)\n",
    "plt.subplot(212)\n",
    "plt.title(\"Train/validation accuracy\")\n",
    "plt.plot(train_history)\n",
    "plt.plot(val_history)"
   ]
  },
  {
   "cell_type": "markdown",
   "metadata": {},
   "source": [
    "# Как обычно, посмотрим, как наша лучшая модель работает на тестовых данных"
   ]
  },
  {
   "cell_type": "code",
   "execution_count": null,
   "metadata": {},
   "outputs": [],
   "source": [
    "test_pred = best_classifier.predict(test_X)\n",
    "test_accuracy = multiclass_accuracy(test_pred, test_y)\n",
    "print('Neural net test set accuracy: %f' % (test_accuracy, ))"
   ]
  }
 ],
 "metadata": {
  "kernelspec": {
   "display_name": "Python 3",
   "language": "python",
   "name": "python3"
  },
  "language_info": {
   "codemirror_mode": {
    "name": "ipython",
    "version": 3
   },
   "file_extension": ".py",
   "mimetype": "text/x-python",
   "name": "python",
   "nbconvert_exporter": "python",
   "pygments_lexer": "ipython3",
   "version": "3.7.6"
  }
 },
 "nbformat": 4,
 "nbformat_minor": 2
}
