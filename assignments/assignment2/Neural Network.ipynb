{
 "cells": [
  {
   "cell_type": "markdown",
   "metadata": {},
   "source": [
    "# Задание 2.1 - Нейронные сети\n",
    "\n",
    "В этом задании вы реализуете и натренируете настоящую нейроную сеть своими руками!\n",
    "\n",
    "В некотором смысле это будет расширением прошлого задания - нам нужно просто составить несколько линейных классификаторов вместе!\n",
    "\n",
    "<img src=\"https://i.redd.it/n9fgba8b0qr01.png\" alt=\"Stack_more_layers\" width=\"400px\"/>"
   ]
  },
  {
   "cell_type": "code",
   "execution_count": 1,
   "metadata": {},
   "outputs": [],
   "source": [
    "import numpy as np\n",
    "import matplotlib.pyplot as plt\n",
    "\n",
    "%matplotlib inline\n",
    "\n",
    "%load_ext autoreload\n",
    "%autoreload 2"
   ]
  },
  {
   "cell_type": "code",
   "execution_count": 2,
   "metadata": {},
   "outputs": [],
   "source": [
    "from dataset import load_svhn, random_split_train_val\n",
    "from gradient_check import check_layer_gradient, check_layer_param_gradient, check_model_gradient\n",
    "from layers import FullyConnectedLayer, ReLULayer\n",
    "from model import TwoLayerNet\n",
    "from trainer import Trainer, Dataset\n",
    "from optim import SGD, MomentumSGD\n",
    "from metrics import multiclass_accuracy"
   ]
  },
  {
   "cell_type": "markdown",
   "metadata": {},
   "source": [
    "# Загружаем данные\n",
    "\n",
    "И разделяем их на training и validation."
   ]
  },
  {
   "cell_type": "code",
   "execution_count": 3,
   "metadata": {},
   "outputs": [],
   "source": [
    "def prepare_for_neural_network(train_X, test_X):\n",
    "    train_flat = train_X.reshape(train_X.shape[0], -1).astype(np.float) / 255.0\n",
    "    test_flat = test_X.reshape(test_X.shape[0], -1).astype(np.float) / 255.0\n",
    "    \n",
    "    # Subtract mean\n",
    "    mean_image = np.mean(train_flat, axis = 0)\n",
    "    train_flat -= mean_image\n",
    "    test_flat -= mean_image\n",
    "    \n",
    "    return train_flat, test_flat\n",
    "    \n",
    "train_X, train_y, test_X, test_y = load_svhn(\"data\", max_train=10000, max_test=1000)    \n",
    "train_X, test_X = prepare_for_neural_network(train_X, test_X)\n",
    "# Split train into train and val\n",
    "train_X, train_y, val_X, val_y = random_split_train_val(train_X, train_y, num_val = 1000)"
   ]
  },
  {
   "cell_type": "markdown",
   "metadata": {},
   "source": [
    "# Как всегда, начинаем с кирпичиков\n",
    "\n",
    "Мы будем реализовывать необходимые нам слои по очереди. Каждый слой должен реализовать:\n",
    "- прямой проход (forward pass), который генерирует выход слоя по входу и запоминает необходимые данные\n",
    "- обратный проход (backward pass), который получает градиент по выходу слоя и вычисляет градиент по входу и по параметрам\n",
    "\n",
    "Начнем с ReLU, у которого параметров нет."
   ]
  },
  {
   "cell_type": "code",
   "execution_count": 4,
   "metadata": {
    "scrolled": false
   },
   "outputs": [
    {
     "name": "stdout",
     "output_type": "stream",
     "text": [
      "Gradient check passed!\n"
     ]
    }
   ],
   "source": [
    "# TODO: Implement ReLULayer layer in layers.py\n",
    "# Note: you'll need to copy implementation of the gradient_check function from the previous assignment\n",
    "\n",
    "X = np.array([[1,-2,3],\n",
    "              [-1, 2, 0.1]\n",
    "              ])\n",
    "\n",
    "assert check_layer_gradient(ReLULayer(), X)"
   ]
  },
  {
   "cell_type": "markdown",
   "metadata": {},
   "source": [
    "А теперь реализуем полносвязный слой (fully connected layer), у которого будет два массива параметров: W (weights) и B (bias).\n",
    "\n",
    "Все параметры наши слои будут использовать для параметров специальный класс `Param`, в котором будут храниться значения параметров и градиенты этих параметров, вычисляемые во время обратного прохода.\n",
    "\n",
    "Это даст возможность аккумулировать (суммировать) градиенты из разных частей функции потерь, например, из cross-entropy loss и regularization loss."
   ]
  },
  {
   "cell_type": "code",
   "execution_count": 5,
   "metadata": {},
   "outputs": [
    {
     "name": "stdout",
     "output_type": "stream",
     "text": [
      "Gradient check passed!\n",
      "Gradient check passed!\n",
      "Gradient check passed!\n"
     ]
    }
   ],
   "source": [
    "# TODO: Implement FullyConnected layer forward and backward methods\n",
    "assert check_layer_gradient(FullyConnectedLayer(3, 4), X)\n",
    "# TODO: Implement storing gradients for W and B\n",
    "assert check_layer_param_gradient(FullyConnectedLayer(3, 4), X, 'W')\n",
    "assert check_layer_param_gradient(FullyConnectedLayer(3, 4), X, 'B')"
   ]
  },
  {
   "cell_type": "markdown",
   "metadata": {},
   "source": [
    "## Создаем нейронную сеть\n",
    "\n",
    "Теперь мы реализуем простейшую нейронную сеть с двумя полносвязным слоями и нелинейностью ReLU. Реализуйте функцию `compute_loss_and_gradients`, она должна запустить прямой и обратный проход через оба слоя для вычисления градиентов.\n",
    "\n",
    "Не забудьте реализовать очистку градиентов в начале функции."
   ]
  },
  {
   "cell_type": "code",
   "execution_count": 6,
   "metadata": {},
   "outputs": [
    {
     "name": "stdout",
     "output_type": "stream",
     "text": [
      "Checking gradient for W_0\n",
      "Gradient check passed!\n",
      "Checking gradient for B_0\n",
      "Gradient check passed!\n",
      "Checking gradient for W_2\n",
      "Gradient check passed!\n",
      "Checking gradient for B_2\n",
      "Gradient check passed!\n"
     ]
    },
    {
     "data": {
      "text/plain": [
       "True"
      ]
     },
     "execution_count": 6,
     "metadata": {},
     "output_type": "execute_result"
    }
   ],
   "source": [
    "# TODO: In model.py, implement compute_loss_and_gradients function\n",
    "model = TwoLayerNet(n_input = train_X.shape[1], n_output = 10, hidden_layer_size = 3, reg = 0)\n",
    "loss = model.compute_loss_and_gradients(train_X[:2], train_y[:2])\n",
    "\n",
    "# TODO Now implement backward pass and aggregate all of the params\n",
    "check_model_gradient(model, train_X[:2], train_y[:2])"
   ]
  },
  {
   "cell_type": "markdown",
   "metadata": {},
   "source": [
    "Теперь добавьте к модели регуляризацию - она должна прибавляться к loss и делать свой вклад в градиенты."
   ]
  },
  {
   "cell_type": "code",
   "execution_count": 7,
   "metadata": {},
   "outputs": [
    {
     "name": "stdout",
     "output_type": "stream",
     "text": [
      "Checking gradient for W_0\n",
      "Gradient check passed!\n",
      "Checking gradient for B_0\n",
      "Gradient check passed!\n",
      "Checking gradient for W_2\n",
      "Gradient check passed!\n",
      "Checking gradient for B_2\n",
      "Gradient check passed!\n"
     ]
    },
    {
     "data": {
      "text/plain": [
       "True"
      ]
     },
     "execution_count": 7,
     "metadata": {},
     "output_type": "execute_result"
    }
   ],
   "source": [
    "# TODO Now implement l2 regularization in the forward and backward pass\n",
    "model_with_reg = TwoLayerNet(n_input = train_X.shape[1], n_output = 10, hidden_layer_size = 3, reg = 1e1)\n",
    "loss_with_reg = model_with_reg.compute_loss_and_gradients(train_X[:2], train_y[:2])\n",
    "assert loss_with_reg > loss and not np.isclose(loss_with_reg, loss), \\\n",
    "    \"Loss with regularization (%2.4f) should be higher than without it (%2.4f)!\" % (loss_with_reg, loss)\n",
    "\n",
    "check_model_gradient(model_with_reg, train_X[:2], train_y[:2])"
   ]
  },
  {
   "cell_type": "markdown",
   "metadata": {},
   "source": [
    "Также реализуем функцию предсказания (вычисления значения) модели на новых данных.\n",
    "\n",
    "Какое значение точности мы ожидаем увидеть до начала тренировки?"
   ]
  },
  {
   "cell_type": "code",
   "execution_count": 8,
   "metadata": {},
   "outputs": [
    {
     "data": {
      "text/plain": [
       "0.1"
      ]
     },
     "execution_count": 8,
     "metadata": {},
     "output_type": "execute_result"
    }
   ],
   "source": [
    "# Finally, implement predict function!https://github.com/olegpolivin/dlcourse_ai.git\n",
    "\n",
    "# TODO: Implement predict function\n",
    "# What would be the value we expect?\n",
    "multiclass_accuracy(model_with_reg.predict(train_X[:30]), train_y[:30]) "
   ]
  },
  {
   "cell_type": "markdown",
   "metadata": {},
   "source": [
    "# Допишем код для процесса тренировки\n",
    "\n",
    "Если все реализовано корректно, значение функции ошибки должно уменьшаться с каждой эпохой, пусть и медленно. Не беспокойтесь пока про validation accuracy."
   ]
  },
  {
   "cell_type": "code",
   "execution_count": 9,
   "metadata": {},
   "outputs": [
    {
     "name": "stdout",
     "output_type": "stream",
     "text": [
      "Loss: 2.216398, Train accuracy: 0.196667, val accuracy: 0.206000\n",
      "Loss: 2.153856, Train accuracy: 0.196667, val accuracy: 0.206000\n",
      "Loss: 2.099106, Train accuracy: 0.196667, val accuracy: 0.206000\n",
      "Loss: 2.285874, Train accuracy: 0.196667, val accuracy: 0.206000\n",
      "Loss: 2.168890, Train accuracy: 0.196667, val accuracy: 0.206000\n",
      "Loss: 2.063678, Train accuracy: 0.196667, val accuracy: 0.206000\n",
      "Loss: 2.365672, Train accuracy: 0.196667, val accuracy: 0.206000\n",
      "Loss: 2.103934, Train accuracy: 0.196667, val accuracy: 0.206000\n",
      "Loss: 2.222549, Train accuracy: 0.210333, val accuracy: 0.218000\n",
      "Loss: 2.059842, Train accuracy: 0.233111, val accuracy: 0.237000\n",
      "Loss: 2.115231, Train accuracy: 0.260667, val accuracy: 0.257000\n",
      "Loss: 2.090787, Train accuracy: 0.272111, val accuracy: 0.275000\n",
      "Loss: 2.098957, Train accuracy: 0.288222, val accuracy: 0.292000\n",
      "Loss: 1.974340, Train accuracy: 0.306889, val accuracy: 0.310000\n",
      "Loss: 2.011588, Train accuracy: 0.333000, val accuracy: 0.336000\n",
      "Loss: 1.819071, Train accuracy: 0.369444, val accuracy: 0.366000\n",
      "Loss: 1.805035, Train accuracy: 0.398222, val accuracy: 0.391000\n",
      "Loss: 2.001364, Train accuracy: 0.415444, val accuracy: 0.405000\n",
      "Loss: 1.930639, Train accuracy: 0.435778, val accuracy: 0.432000\n",
      "Loss: 1.738233, Train accuracy: 0.467111, val accuracy: 0.463000\n"
     ]
    }
   ],
   "source": [
    "model = TwoLayerNet(n_input = train_X.shape[1], n_output = 10, hidden_layer_size = 100, reg = 1e-5)\n",
    "dataset = Dataset(train_X, train_y, val_X, val_y)\n",
    "trainer = Trainer(model, dataset, SGD(), learning_rate = 1e-2)\n",
    "\n",
    "# TODO Implement missing pieces in Trainer.fit function\n",
    "# You should expect loss to go down every epoch, even if it's slow\n",
    "loss_history, train_history, val_history = trainer.fit()"
   ]
  },
  {
   "cell_type": "code",
   "execution_count": 10,
   "metadata": {},
   "outputs": [
    {
     "data": {
      "text/plain": [
       "[<matplotlib.lines.Line2D at 0x7fe2b43961d0>]"
      ]
     },
     "execution_count": 10,
     "metadata": {},
     "output_type": "execute_result"
    },
    {
     "data": {
      "image/png": "[encoded data removed]",
      "text/plain": [
       "<Figure size 432x288 with 1 Axes>"
      ]
     },
     "metadata": {
      "needs_background": "light"
     },
     "output_type": "display_data"
    }
   ],
   "source": [
    "plt.plot(loss_history)"
   ]
  },
  {
   "cell_type": "code",
   "execution_count": 11,
   "metadata": {},
   "outputs": [
    {
     "data": {
      "text/plain": [
       "<matplotlib.legend.Legend at 0x7fe2b42bc610>"
      ]
     },
     "execution_count": 11,
     "metadata": {},
     "output_type": "execute_result"
    },
    {
     "data": {
      "image/png": "[encoded data removed]",
      "text/plain": [
       "<Figure size 432x288 with 1 Axes>"
      ]
     },
     "metadata": {
      "needs_background": "light"
     },
     "output_type": "display_data"
    }
   ],
   "source": [
    "plt.plot(train_history, label='Train accuracy')\n",
    "plt.plot(val_history, label='Val accuracy')\n",
    "plt.legend()"
   ]
  },
  {
   "cell_type": "markdown",
   "metadata": {},
   "source": [
    "# Улучшаем процесс тренировки\n",
    "\n",
    "Мы реализуем несколько ключевых оптимизаций, необходимых для тренировки современных нейросетей."
   ]
  },
  {
   "cell_type": "markdown",
   "metadata": {},
   "source": [
    "## Уменьшение скорости обучения (learning rate decay)\n",
    "\n",
    "Одна из необходимых оптимизаций во время тренировки нейронных сетей - постепенное уменьшение скорости обучения по мере тренировки.\n",
    "\n",
    "Один из стандартных методов - уменьшение скорости обучения (learning rate) каждые N эпох на коэффициент d (часто называемый decay). Значения N и d, как всегда, являются гиперпараметрами и должны подбираться на основе эффективности на проверочных данных (validation data). \n",
    "\n",
    "В нашем случае N будет равным 1."
   ]
  },
  {
   "cell_type": "code",
   "execution_count": 12,
   "metadata": {},
   "outputs": [
    {
     "name": "stdout",
     "output_type": "stream",
     "text": [
      "Loss: 2.245382, Train accuracy: 0.196667, val accuracy: 0.206000\n",
      "Loss: 2.372504, Train accuracy: 0.196667, val accuracy: 0.206000\n",
      "Loss: 2.207905, Train accuracy: 0.196667, val accuracy: 0.206000\n",
      "Loss: 2.259103, Train accuracy: 0.196667, val accuracy: 0.206000\n",
      "Loss: 2.180887, Train accuracy: 0.196667, val accuracy: 0.206000\n",
      "Loss: 2.191641, Train accuracy: 0.196667, val accuracy: 0.206000\n",
      "Loss: 2.081185, Train accuracy: 0.196667, val accuracy: 0.206000\n",
      "Loss: 2.321212, Train accuracy: 0.196667, val accuracy: 0.206000\n",
      "Loss: 2.246704, Train accuracy: 0.202778, val accuracy: 0.212000\n",
      "Loss: 2.189141, Train accuracy: 0.231111, val accuracy: 0.238000\n",
      "Loss: 2.074268, Train accuracy: 0.243778, val accuracy: 0.247000\n",
      "Loss: 2.086563, Train accuracy: 0.271111, val accuracy: 0.272000\n",
      "Loss: 2.373452, Train accuracy: 0.278222, val accuracy: 0.275000\n",
      "Loss: 1.735182, Train accuracy: 0.284444, val accuracy: 0.289000\n",
      "Loss: 2.276342, Train accuracy: 0.307667, val accuracy: 0.311000\n",
      "Loss: 1.906094, Train accuracy: 0.339778, val accuracy: 0.338000\n",
      "Loss: 1.673473, Train accuracy: 0.373222, val accuracy: 0.373000\n",
      "Loss: 1.652354, Train accuracy: 0.395778, val accuracy: 0.388000\n",
      "Loss: 1.616790, Train accuracy: 0.415444, val accuracy: 0.411000\n",
      "Loss: 1.999104, Train accuracy: 0.444889, val accuracy: 0.437000\n"
     ]
    }
   ],
   "source": [
    "# TODO Implement learning rate decay inside Trainer.fit method\n",
    "# Decay should happen once per epoch\n",
    "\n",
    "model = TwoLayerNet(n_input = train_X.shape[1], n_output = 10, hidden_layer_size = 100, reg = 1e-5)\n",
    "dataset = Dataset(train_X, train_y, val_X, val_y)\n",
    "trainer = Trainer(model, dataset, SGD(), learning_rate=1e-2, learning_rate_decay=0.99)\n",
    "\n",
    "initial_learning_rate = trainer.learning_rate\n",
    "loss_history, train_history, val_history = trainer.fit()\n",
    "\n",
    "assert trainer.learning_rate < initial_learning_rate, \"Learning rate should've been reduced\"\n",
    "assert trainer.learning_rate > 0.5*initial_learning_rate, \"Learning rate shouldn'tve been reduced that much!\""
   ]
  },
  {
   "cell_type": "markdown",
   "metadata": {},
   "source": [
    "# Накопление импульса (Momentum SGD)\n",
    "\n",
    "Другой большой класс оптимизаций - использование более эффективных методов градиентного спуска. Мы реализуем один из них - накопление импульса (Momentum SGD).\n",
    "\n",
    "Этот метод хранит скорость движения, использует градиент для ее изменения на каждом шаге, и изменяет веса пропорционально значению скорости.\n",
    "(Физическая аналогия: Вместо скорости градиенты теперь будут задавать ускорение, но будет присутствовать сила трения.)\n",
    "\n",
    "```\n",
    "velocity = momentum * velocity - learning_rate * gradient \n",
    "w = w + velocity\n",
    "```\n",
    "\n",
    "`momentum` здесь коэффициент затухания, который тоже является гиперпараметром (к счастью, для него часто есть хорошее значение по умолчанию, типичный диапазон -- 0.8-0.99).\n",
    "\n",
    "Несколько полезных ссылок, где метод разбирается более подробно:  \n",
    "http://cs231n.github.io/neural-networks-3/#sgd  \n",
    "https://distill.pub/2017/momentum/"
   ]
  },
  {
   "cell_type": "code",
   "execution_count": 13,
   "metadata": {},
   "outputs": [
    {
     "name": "stdout",
     "output_type": "stream",
     "text": [
      "Loss: 2.144626, Train accuracy: 0.197333, val accuracy: 0.206000\n",
      "Loss: 1.622121, Train accuracy: 0.355222, val accuracy: 0.358000\n",
      "Loss: 1.265590, Train accuracy: 0.554000, val accuracy: 0.547000\n",
      "Loss: 1.426333, Train accuracy: 0.609222, val accuracy: 0.590000\n",
      "Loss: 1.316831, Train accuracy: 0.673889, val accuracy: 0.653000\n",
      "Loss: 1.585551, Train accuracy: 0.671222, val accuracy: 0.662000\n",
      "Loss: 0.881241, Train accuracy: 0.727556, val accuracy: 0.678000\n",
      "Loss: 0.963371, Train accuracy: 0.728889, val accuracy: 0.666000\n",
      "Loss: 0.960361, Train accuracy: 0.750222, val accuracy: 0.703000\n",
      "Loss: 1.111276, Train accuracy: 0.773000, val accuracy: 0.697000\n",
      "Loss: 0.505593, Train accuracy: 0.783444, val accuracy: 0.709000\n",
      "Loss: 0.590929, Train accuracy: 0.811667, val accuracy: 0.725000\n",
      "Loss: 0.583194, Train accuracy: 0.829333, val accuracy: 0.728000\n",
      "Loss: 0.286914, Train accuracy: 0.804000, val accuracy: 0.719000\n",
      "Loss: 1.040563, Train accuracy: 0.835000, val accuracy: 0.731000\n",
      "Loss: 0.458959, Train accuracy: 0.829111, val accuracy: 0.744000\n",
      "Loss: 0.643442, Train accuracy: 0.835778, val accuracy: 0.732000\n",
      "Loss: 0.731865, Train accuracy: 0.836111, val accuracy: 0.727000\n",
      "Loss: 0.157285, Train accuracy: 0.869444, val accuracy: 0.763000\n",
      "Loss: 0.417178, Train accuracy: 0.863222, val accuracy: 0.741000\n"
     ]
    }
   ],
   "source": [
    "# TODO: Implement MomentumSGD.update function in optim.py\n",
    "\n",
    "model = TwoLayerNet(n_input = train_X.shape[1], n_output = 10, hidden_layer_size = 100, reg = 1e-5)\n",
    "dataset = Dataset(train_X, train_y, val_X, val_y)\n",
    "trainer = Trainer(model, dataset, MomentumSGD(), learning_rate=1e-2, learning_rate_decay=0.99)\n",
    "\n",
    "# You should see even better results than before!\n",
    "loss_history, train_history, val_history = trainer.fit()"
   ]
  },
  {
   "cell_type": "markdown",
   "metadata": {},
   "source": [
    "# Ну что, давайте уже тренировать сеть!"
   ]
  },
  {
   "cell_type": "markdown",
   "metadata": {},
   "source": [
    "## Последний тест - переобучимся (overfit) на маленьком наборе данных\n",
    "\n",
    "Хороший способ проверить, все ли реализовано корректно - переобучить сеть на маленьком наборе данных.  \n",
    "Наша модель обладает достаточной мощностью, чтобы приблизить маленький набор данных идеально, поэтому мы ожидаем, что на нем мы быстро дойдем до 100% точности на тренировочном наборе. \n",
    "\n",
    "Если этого не происходит, то где-то была допущена ошибка!"
   ]
  },
  {
   "cell_type": "code",
   "execution_count": 14,
   "metadata": {},
   "outputs": [
    {
     "name": "stdout",
     "output_type": "stream",
     "text": [
      "Loss: 2.351801, Train accuracy: 0.200000, val accuracy: 0.133333\n",
      "Loss: 2.319693, Train accuracy: 0.200000, val accuracy: 0.133333\n",
      "Loss: 2.295926, Train accuracy: 0.200000, val accuracy: 0.133333\n",
      "Loss: 2.345443, Train accuracy: 0.200000, val accuracy: 0.133333\n",
      "Loss: 2.310013, Train accuracy: 0.200000, val accuracy: 0.133333\n",
      "Loss: 2.326544, Train accuracy: 0.200000, val accuracy: 0.133333\n",
      "Loss: 2.255641, Train accuracy: 0.200000, val accuracy: 0.133333\n",
      "Loss: 2.199259, Train accuracy: 0.200000, val accuracy: 0.066667\n",
      "Loss: 2.164561, Train accuracy: 0.333333, val accuracy: 0.066667\n",
      "Loss: 2.025661, Train accuracy: 0.400000, val accuracy: 0.000000\n",
      "Loss: 1.883798, Train accuracy: 0.400000, val accuracy: 0.000000\n",
      "Loss: 2.263931, Train accuracy: 0.400000, val accuracy: 0.000000\n",
      "Loss: 1.662918, Train accuracy: 0.333333, val accuracy: 0.000000\n",
      "Loss: 2.245522, Train accuracy: 0.333333, val accuracy: 0.000000\n",
      "Loss: 1.943906, Train accuracy: 0.400000, val accuracy: 0.000000\n",
      "Loss: 1.663953, Train accuracy: 0.333333, val accuracy: 0.000000\n",
      "Loss: 2.042200, Train accuracy: 0.400000, val accuracy: 0.000000\n",
      "Loss: 1.418303, Train accuracy: 0.400000, val accuracy: 0.000000\n",
      "Loss: 1.519709, Train accuracy: 0.400000, val accuracy: 0.000000\n",
      "Loss: 1.823944, Train accuracy: 0.466667, val accuracy: 0.000000\n",
      "Loss: 2.022291, Train accuracy: 0.400000, val accuracy: 0.000000\n",
      "Loss: 1.585656, Train accuracy: 0.400000, val accuracy: 0.000000\n",
      "Loss: 1.937038, Train accuracy: 0.400000, val accuracy: 0.066667\n",
      "Loss: 1.908215, Train accuracy: 0.466667, val accuracy: 0.000000\n",
      "Loss: 1.233499, Train accuracy: 0.466667, val accuracy: 0.000000\n",
      "Loss: 2.095108, Train accuracy: 0.466667, val accuracy: 0.000000\n",
      "Loss: 1.718242, Train accuracy: 0.466667, val accuracy: 0.066667\n",
      "Loss: 2.162756, Train accuracy: 0.466667, val accuracy: 0.066667\n",
      "Loss: 2.015933, Train accuracy: 0.466667, val accuracy: 0.000000\n",
      "Loss: 1.363952, Train accuracy: 0.466667, val accuracy: 0.000000\n",
      "Loss: 1.842670, Train accuracy: 0.533333, val accuracy: 0.000000\n",
      "Loss: 1.657567, Train accuracy: 0.533333, val accuracy: 0.066667\n",
      "Loss: 1.388463, Train accuracy: 0.533333, val accuracy: 0.066667\n",
      "Loss: 1.911120, Train accuracy: 0.533333, val accuracy: 0.066667\n",
      "Loss: 1.693765, Train accuracy: 0.600000, val accuracy: 0.000000\n",
      "Loss: 2.010436, Train accuracy: 0.600000, val accuracy: 0.066667\n",
      "Loss: 1.115900, Train accuracy: 0.600000, val accuracy: 0.066667\n",
      "Loss: 1.613706, Train accuracy: 0.600000, val accuracy: 0.066667\n",
      "Loss: 1.738574, Train accuracy: 0.600000, val accuracy: 0.066667\n",
      "Loss: 1.885192, Train accuracy: 0.600000, val accuracy: 0.066667\n",
      "Loss: 2.474042, Train accuracy: 0.666667, val accuracy: 0.066667\n",
      "Loss: 1.119274, Train accuracy: 0.666667, val accuracy: 0.066667\n",
      "Loss: 1.672047, Train accuracy: 0.666667, val accuracy: 0.066667\n",
      "Loss: 1.767860, Train accuracy: 0.666667, val accuracy: 0.066667\n",
      "Loss: 1.478802, Train accuracy: 0.666667, val accuracy: 0.066667\n",
      "Loss: 1.926619, Train accuracy: 0.733333, val accuracy: 0.066667\n",
      "Loss: 1.337383, Train accuracy: 0.733333, val accuracy: 0.066667\n",
      "Loss: 1.683186, Train accuracy: 0.733333, val accuracy: 0.066667\n",
      "Loss: 1.660081, Train accuracy: 0.800000, val accuracy: 0.066667\n",
      "Loss: 1.401881, Train accuracy: 0.733333, val accuracy: 0.133333\n",
      "Loss: 1.635264, Train accuracy: 0.733333, val accuracy: 0.000000\n",
      "Loss: 1.635617, Train accuracy: 0.733333, val accuracy: 0.066667\n",
      "Loss: 1.622938, Train accuracy: 0.733333, val accuracy: 0.066667\n",
      "Loss: 1.854111, Train accuracy: 0.733333, val accuracy: 0.066667\n",
      "Loss: 1.556636, Train accuracy: 0.733333, val accuracy: 0.066667\n",
      "Loss: 1.634732, Train accuracy: 0.733333, val accuracy: 0.066667\n",
      "Loss: 1.076198, Train accuracy: 0.666667, val accuracy: 0.000000\n",
      "Loss: 1.007559, Train accuracy: 0.733333, val accuracy: 0.066667\n",
      "Loss: 1.531114, Train accuracy: 0.733333, val accuracy: 0.066667\n",
      "Loss: 1.041336, Train accuracy: 0.733333, val accuracy: 0.066667\n",
      "Loss: 2.022564, Train accuracy: 0.733333, val accuracy: 0.066667\n",
      "Loss: 1.647379, Train accuracy: 0.733333, val accuracy: 0.066667\n",
      "Loss: 1.369538, Train accuracy: 0.733333, val accuracy: 0.066667\n",
      "Loss: 1.379903, Train accuracy: 0.733333, val accuracy: 0.066667\n",
      "Loss: 1.986917, Train accuracy: 0.733333, val accuracy: 0.066667\n",
      "Loss: 1.318972, Train accuracy: 0.733333, val accuracy: 0.066667\n",
      "Loss: 1.283966, Train accuracy: 0.733333, val accuracy: 0.000000\n",
      "Loss: 0.936269, Train accuracy: 0.733333, val accuracy: 0.066667\n",
      "Loss: 1.196061, Train accuracy: 0.733333, val accuracy: 0.066667\n",
      "Loss: 1.739352, Train accuracy: 0.733333, val accuracy: 0.066667\n",
      "Loss: 1.634901, Train accuracy: 0.733333, val accuracy: 0.066667\n",
      "Loss: 1.201189, Train accuracy: 0.733333, val accuracy: 0.000000\n",
      "Loss: 1.582981, Train accuracy: 0.733333, val accuracy: 0.066667\n",
      "Loss: 1.742143, Train accuracy: 0.733333, val accuracy: 0.066667\n",
      "Loss: 1.293135, Train accuracy: 0.733333, val accuracy: 0.066667\n",
      "Loss: 1.748190, Train accuracy: 0.800000, val accuracy: 0.066667\n",
      "Loss: 1.976545, Train accuracy: 0.800000, val accuracy: 0.000000\n",
      "Loss: 1.357876, Train accuracy: 0.800000, val accuracy: 0.066667\n",
      "Loss: 0.992895, Train accuracy: 0.800000, val accuracy: 0.066667\n",
      "Loss: 1.602046, Train accuracy: 0.800000, val accuracy: 0.066667\n",
      "Loss: 1.602167, Train accuracy: 0.866667, val accuracy: 0.066667\n",
      "Loss: 1.173057, Train accuracy: 0.866667, val accuracy: 0.066667\n",
      "Loss: 1.312798, Train accuracy: 0.866667, val accuracy: 0.000000\n",
      "Loss: 1.564551, Train accuracy: 0.866667, val accuracy: 0.000000\n",
      "Loss: 0.961713, Train accuracy: 0.866667, val accuracy: 0.066667\n",
      "Loss: 1.274091, Train accuracy: 0.866667, val accuracy: 0.066667\n",
      "Loss: 1.304703, Train accuracy: 0.933333, val accuracy: 0.066667\n",
      "Loss: 0.958926, Train accuracy: 0.933333, val accuracy: 0.066667\n",
      "Loss: 1.377168, Train accuracy: 0.866667, val accuracy: 0.066667\n",
      "Loss: 1.657193, Train accuracy: 0.933333, val accuracy: 0.066667\n",
      "Loss: 1.389767, Train accuracy: 0.933333, val accuracy: 0.066667\n",
      "Loss: 1.576803, Train accuracy: 0.933333, val accuracy: 0.066667\n",
      "Loss: 1.556738, Train accuracy: 0.933333, val accuracy: 0.066667\n",
      "Loss: 1.175409, Train accuracy: 0.933333, val accuracy: 0.000000\n",
      "Loss: 1.322616, Train accuracy: 0.933333, val accuracy: 0.066667\n",
      "Loss: 1.251510, Train accuracy: 0.933333, val accuracy: 0.066667\n",
      "Loss: 1.060407, Train accuracy: 0.933333, val accuracy: 0.066667\n",
      "Loss: 1.661861, Train accuracy: 0.933333, val accuracy: 0.066667\n",
      "Loss: 1.227308, Train accuracy: 0.933333, val accuracy: 0.066667\n",
      "Loss: 1.597969, Train accuracy: 0.933333, val accuracy: 0.066667\n",
      "Loss: 1.887250, Train accuracy: 0.933333, val accuracy: 0.066667\n",
      "Loss: 1.338688, Train accuracy: 0.933333, val accuracy: 0.066667\n",
      "Loss: 1.842966, Train accuracy: 0.933333, val accuracy: 0.066667\n",
      "Loss: 1.160604, Train accuracy: 0.933333, val accuracy: 0.066667\n",
      "Loss: 1.347215, Train accuracy: 0.933333, val accuracy: 0.066667\n",
      "Loss: 1.223119, Train accuracy: 0.933333, val accuracy: 0.066667\n",
      "Loss: 1.436648, Train accuracy: 0.933333, val accuracy: 0.000000\n",
      "Loss: 1.535320, Train accuracy: 0.933333, val accuracy: 0.066667\n",
      "Loss: 1.249121, Train accuracy: 0.933333, val accuracy: 0.066667\n",
      "Loss: 1.248964, Train accuracy: 0.933333, val accuracy: 0.000000\n",
      "Loss: 1.549803, Train accuracy: 1.000000, val accuracy: 0.066667\n",
      "Loss: 1.259687, Train accuracy: 0.933333, val accuracy: 0.000000\n",
      "Loss: 1.097239, Train accuracy: 1.000000, val accuracy: 0.000000\n",
      "Loss: 1.324286, Train accuracy: 0.933333, val accuracy: 0.000000\n",
      "Loss: 1.315431, Train accuracy: 0.933333, val accuracy: 0.000000\n",
      "Loss: 1.420746, Train accuracy: 1.000000, val accuracy: 0.000000\n",
      "Loss: 1.443017, Train accuracy: 0.933333, val accuracy: 0.000000\n",
      "Loss: 1.301618, Train accuracy: 1.000000, val accuracy: 0.000000\n",
      "Loss: 1.533658, Train accuracy: 1.000000, val accuracy: 0.000000\n",
      "Loss: 1.607993, Train accuracy: 1.000000, val accuracy: 0.000000\n",
      "Loss: 1.239065, Train accuracy: 0.933333, val accuracy: 0.000000\n",
      "Loss: 1.649177, Train accuracy: 1.000000, val accuracy: 0.000000\n",
      "Loss: 1.174445, Train accuracy: 1.000000, val accuracy: 0.000000\n",
      "Loss: 1.602848, Train accuracy: 1.000000, val accuracy: 0.000000\n",
      "Loss: 1.363682, Train accuracy: 1.000000, val accuracy: 0.000000\n",
      "Loss: 1.160640, Train accuracy: 1.000000, val accuracy: 0.000000\n",
      "Loss: 1.197888, Train accuracy: 1.000000, val accuracy: 0.000000\n",
      "Loss: 1.126413, Train accuracy: 1.000000, val accuracy: 0.000000\n"
     ]
    },
    {
     "name": "stdout",
     "output_type": "stream",
     "text": [
      "Loss: 1.008120, Train accuracy: 1.000000, val accuracy: 0.000000\n",
      "Loss: 1.643235, Train accuracy: 1.000000, val accuracy: 0.000000\n",
      "Loss: 1.592807, Train accuracy: 1.000000, val accuracy: 0.000000\n",
      "Loss: 1.412599, Train accuracy: 1.000000, val accuracy: 0.000000\n",
      "Loss: 1.212850, Train accuracy: 1.000000, val accuracy: 0.000000\n",
      "Loss: 1.196541, Train accuracy: 0.933333, val accuracy: 0.000000\n",
      "Loss: 1.280346, Train accuracy: 1.000000, val accuracy: 0.000000\n",
      "Loss: 1.403204, Train accuracy: 1.000000, val accuracy: 0.000000\n",
      "Loss: 1.229377, Train accuracy: 1.000000, val accuracy: 0.000000\n",
      "Loss: 1.400568, Train accuracy: 1.000000, val accuracy: 0.000000\n",
      "Loss: 1.391042, Train accuracy: 1.000000, val accuracy: 0.000000\n",
      "Loss: 1.102808, Train accuracy: 1.000000, val accuracy: 0.000000\n",
      "Loss: 1.445285, Train accuracy: 1.000000, val accuracy: 0.000000\n",
      "Loss: 1.406323, Train accuracy: 1.000000, val accuracy: 0.000000\n",
      "Loss: 1.219193, Train accuracy: 1.000000, val accuracy: 0.000000\n",
      "Loss: 1.449330, Train accuracy: 1.000000, val accuracy: 0.000000\n",
      "Loss: 1.304464, Train accuracy: 1.000000, val accuracy: 0.000000\n",
      "Loss: 1.494726, Train accuracy: 1.000000, val accuracy: 0.000000\n",
      "Loss: 1.327706, Train accuracy: 1.000000, val accuracy: 0.000000\n",
      "Loss: 1.361608, Train accuracy: 1.000000, val accuracy: 0.000000\n",
      "Loss: 1.460816, Train accuracy: 1.000000, val accuracy: 0.000000\n",
      "Loss: 1.424061, Train accuracy: 1.000000, val accuracy: 0.000000\n"
     ]
    }
   ],
   "source": [
    "data_size = 15\n",
    "model = TwoLayerNet(n_input = train_X.shape[1], n_output = 10, hidden_layer_size = 100, reg = 1e-1)\n",
    "dataset = Dataset(train_X[:data_size], train_y[:data_size], val_X[:data_size], val_y[:data_size])\n",
    "trainer = Trainer(model, dataset, SGD(), learning_rate=1e-1, num_epochs=150, batch_size=5)\n",
    "\n",
    "# You should expect this to reach 1.0 training accuracy \n",
    "loss_history, train_history, val_history = trainer.fit()"
   ]
  },
  {
   "cell_type": "markdown",
   "metadata": {},
   "source": [
    "Теперь найдем гипепараметры, для которых этот процесс сходится быстрее.\n",
    "Если все реализовано корректно, то существуют параметры, при которых процесс сходится в **20** эпох или еще быстрее.\n",
    "Найдите их!"
   ]
  },
  {
   "cell_type": "code",
   "execution_count": 15,
   "metadata": {},
   "outputs": [
    {
     "name": "stdout",
     "output_type": "stream",
     "text": [
      "Loss: 2.303493, Train accuracy: 0.200000, val accuracy: 0.133333\n",
      "Loss: 2.272501, Train accuracy: 0.200000, val accuracy: 0.066667\n",
      "Loss: 2.112325, Train accuracy: 0.400000, val accuracy: 0.000000\n",
      "Loss: 2.223673, Train accuracy: 0.400000, val accuracy: 0.000000\n",
      "Loss: 2.279593, Train accuracy: 0.333333, val accuracy: 0.066667\n",
      "Loss: 2.022219, Train accuracy: 0.466667, val accuracy: 0.066667\n",
      "Loss: 1.724254, Train accuracy: 0.466667, val accuracy: 0.000000\n",
      "Loss: 1.406655, Train accuracy: 0.400000, val accuracy: 0.066667\n",
      "Loss: 1.777473, Train accuracy: 0.333333, val accuracy: 0.000000\n",
      "Loss: 1.856513, Train accuracy: 0.533333, val accuracy: 0.066667\n",
      "Loss: 1.829882, Train accuracy: 0.600000, val accuracy: 0.000000\n",
      "Loss: 0.995744, Train accuracy: 0.666667, val accuracy: 0.000000\n",
      "Loss: 0.922113, Train accuracy: 0.800000, val accuracy: 0.000000\n",
      "Loss: 0.554490, Train accuracy: 0.800000, val accuracy: 0.000000\n",
      "Loss: 0.440609, Train accuracy: 0.800000, val accuracy: 0.000000\n",
      "Loss: 0.336933, Train accuracy: 0.800000, val accuracy: 0.000000\n",
      "Loss: 0.380880, Train accuracy: 1.000000, val accuracy: 0.000000\n",
      "Loss: 0.278951, Train accuracy: 1.000000, val accuracy: 0.000000\n",
      "Loss: 0.291828, Train accuracy: 1.000000, val accuracy: 0.000000\n",
      "Loss: 0.060600, Train accuracy: 1.000000, val accuracy: 0.000000\n"
     ]
    }
   ],
   "source": [
    "# Now, tweak some hyper parameters and make it train to 1.0 accuracy in 20 epochs or less\n",
    "\n",
    "model = TwoLayerNet(n_input = train_X.shape[1], n_output = 10, hidden_layer_size = 100, reg = 1e-3)\n",
    "dataset = Dataset(train_X[:data_size], train_y[:data_size], val_X[:data_size], val_y[:data_size])\n",
    "# TODO: Change any hyperparamers or optimizators to reach training accuracy in 20 epochs\n",
    "trainer = Trainer(model, dataset, SGD(), learning_rate=0.33, num_epochs=20, batch_size=5)\n",
    "\n",
    "loss_history, train_history, val_history = trainer.fit()"
   ]
  },
  {
   "cell_type": "markdown",
   "metadata": {},
   "source": [
    "# Итак, основное мероприятие!\n",
    "\n",
    "Натренируйте лучшую нейросеть! Можно добавлять и изменять параметры, менять количество нейронов в слоях сети и как угодно экспериментировать. \n",
    "\n",
    "Добейтесь точности лучше **60%** на validation set."
   ]
  },
  {
   "cell_type": "markdown",
   "metadata": {},
   "source": [
    "The idea will be the following: first, we choose among large range of parameters, and then I will adjust further."
   ]
  },
  {
   "cell_type": "code",
   "execution_count": 17,
   "metadata": {
    "scrolled": true
   },
   "outputs": [
    {
     "name": "stdout",
     "output_type": "stream",
     "text": [
      "Fitting: learning rate = 0.01, regularization strength = 1e-05, learning rate decay = 0.9, hidden_layer_size = 100\n",
      "Resulting accuracy is 0.648\n",
      "\n",
      "Fitting: learning rate = 0.01, regularization strength = 1e-05, learning rate decay = 0.9, hidden_layer_size = 200\n",
      "Resulting accuracy is 0.658\n",
      "\n",
      "Fitting: learning rate = 0.01, regularization strength = 1e-05, learning rate decay = 0.9, hidden_layer_size = 300\n",
      "Resulting accuracy is 0.664\n",
      "\n",
      "Fitting: learning rate = 0.01, regularization strength = 1e-05, learning rate decay = 0.99, hidden_layer_size = 100\n",
      "Resulting accuracy is 0.776\n",
      "\n",
      "Fitting: learning rate = 0.01, regularization strength = 1e-05, learning rate decay = 0.99, hidden_layer_size = 200\n",
      "Resulting accuracy is 0.768\n",
      "\n",
      "Fitting: learning rate = 0.01, regularization strength = 1e-05, learning rate decay = 0.99, hidden_layer_size = 300\n",
      "Resulting accuracy is 0.785\n",
      "\n",
      "Fitting: learning rate = 0.01, regularization strength = 1e-05, learning rate decay = 0.999, hidden_layer_size = 100\n",
      "Resulting accuracy is 0.778\n",
      "\n",
      "Fitting: learning rate = 0.01, regularization strength = 1e-05, learning rate decay = 0.999, hidden_layer_size = 200\n",
      "Resulting accuracy is 0.764\n",
      "\n",
      "Fitting: learning rate = 0.01, regularization strength = 1e-05, learning rate decay = 0.999, hidden_layer_size = 300\n",
      "Resulting accuracy is 0.778\n",
      "\n",
      "Fitting: learning rate = 0.01, regularization strength = 0.0001, learning rate decay = 0.9, hidden_layer_size = 100\n",
      "Resulting accuracy is 0.639\n",
      "\n",
      "Fitting: learning rate = 0.01, regularization strength = 0.0001, learning rate decay = 0.9, hidden_layer_size = 200\n",
      "Resulting accuracy is 0.651\n",
      "\n",
      "Fitting: learning rate = 0.01, regularization strength = 0.0001, learning rate decay = 0.9, hidden_layer_size = 300\n",
      "Resulting accuracy is 0.669\n",
      "\n",
      "Fitting: learning rate = 0.01, regularization strength = 0.0001, learning rate decay = 0.99, hidden_layer_size = 100\n",
      "Resulting accuracy is 0.77\n",
      "\n",
      "Fitting: learning rate = 0.01, regularization strength = 0.0001, learning rate decay = 0.99, hidden_layer_size = 200\n",
      "Resulting accuracy is 0.773\n",
      "\n",
      "Fitting: learning rate = 0.01, regularization strength = 0.0001, learning rate decay = 0.99, hidden_layer_size = 300\n",
      "Resulting accuracy is 0.782\n",
      "\n",
      "Fitting: learning rate = 0.01, regularization strength = 0.0001, learning rate decay = 0.999, hidden_layer_size = 100\n",
      "Resulting accuracy is 0.765\n",
      "\n",
      "Fitting: learning rate = 0.01, regularization strength = 0.0001, learning rate decay = 0.999, hidden_layer_size = 200\n",
      "Resulting accuracy is 0.77\n",
      "\n",
      "Fitting: learning rate = 0.01, regularization strength = 0.0001, learning rate decay = 0.999, hidden_layer_size = 300\n",
      "Resulting accuracy is 0.772\n",
      "\n",
      "Fitting: learning rate = 0.1, regularization strength = 1e-05, learning rate decay = 0.9, hidden_layer_size = 100\n",
      "Resulting accuracy is 0.773\n",
      "\n",
      "Fitting: learning rate = 0.1, regularization strength = 1e-05, learning rate decay = 0.9, hidden_layer_size = 200\n",
      "Resulting accuracy is 0.779\n",
      "\n",
      "Fitting: learning rate = 0.1, regularization strength = 1e-05, learning rate decay = 0.9, hidden_layer_size = 300\n",
      "Resulting accuracy is 0.789\n",
      "\n",
      "Fitting: learning rate = 0.1, regularization strength = 1e-05, learning rate decay = 0.99, hidden_layer_size = 100\n",
      "Resulting accuracy is 0.739\n",
      "\n",
      "Fitting: learning rate = 0.1, regularization strength = 1e-05, learning rate decay = 0.99, hidden_layer_size = 200\n",
      "Resulting accuracy is 0.761\n",
      "\n",
      "Fitting: learning rate = 0.1, regularization strength = 1e-05, learning rate decay = 0.99, hidden_layer_size = 300\n",
      "Resulting accuracy is 0.771\n",
      "\n",
      "Fitting: learning rate = 0.1, regularization strength = 1e-05, learning rate decay = 0.999, hidden_layer_size = 100\n",
      "Resulting accuracy is 0.749\n",
      "\n",
      "Fitting: learning rate = 0.1, regularization strength = 1e-05, learning rate decay = 0.999, hidden_layer_size = 200\n",
      "Resulting accuracy is 0.749\n",
      "\n",
      "Fitting: learning rate = 0.1, regularization strength = 1e-05, learning rate decay = 0.999, hidden_layer_size = 300\n",
      "Resulting accuracy is 0.741\n",
      "\n",
      "Fitting: learning rate = 0.1, regularization strength = 0.0001, learning rate decay = 0.9, hidden_layer_size = 100\n",
      "Resulting accuracy is 0.78\n",
      "\n",
      "Fitting: learning rate = 0.1, regularization strength = 0.0001, learning rate decay = 0.9, hidden_layer_size = 200\n",
      "Resulting accuracy is 0.762\n",
      "\n",
      "Fitting: learning rate = 0.1, regularization strength = 0.0001, learning rate decay = 0.9, hidden_layer_size = 300\n",
      "Resulting accuracy is 0.781\n",
      "\n",
      "Fitting: learning rate = 0.1, regularization strength = 0.0001, learning rate decay = 0.99, hidden_layer_size = 100\n",
      "Resulting accuracy is 0.771\n",
      "\n",
      "Fitting: learning rate = 0.1, regularization strength = 0.0001, learning rate decay = 0.99, hidden_layer_size = 200\n",
      "Resulting accuracy is 0.774\n",
      "\n",
      "Fitting: learning rate = 0.1, regularization strength = 0.0001, learning rate decay = 0.99, hidden_layer_size = 300\n",
      "Resulting accuracy is 0.786\n",
      "\n",
      "Fitting: learning rate = 0.1, regularization strength = 0.0001, learning rate decay = 0.999, hidden_layer_size = 100\n",
      "Resulting accuracy is 0.722\n",
      "\n",
      "Fitting: learning rate = 0.1, regularization strength = 0.0001, learning rate decay = 0.999, hidden_layer_size = 200\n",
      "Resulting accuracy is 0.706\n",
      "\n",
      "Fitting: learning rate = 0.1, regularization strength = 0.0001, learning rate decay = 0.999, hidden_layer_size = 300\n",
      "Resulting accuracy is 0.71\n",
      "\n",
      "Fitting: learning rate = 0.35, regularization strength = 1e-05, learning rate decay = 0.9, hidden_layer_size = 100\n"
     ]
    },
    {
     "name": "stderr",
     "output_type": "stream",
     "text": [
      "/home/iorana/Desktop/storytelling/ML/education/dlcourse_ai/assignments/assignment2/layers.py:64: RuntimeWarning: divide by zero encountered in log\n",
      "  H = -np.mean(np.log(probs[row_index, target_index]))\n"
     ]
    },
    {
     "name": "stdout",
     "output_type": "stream",
     "text": [
      "Resulting accuracy is 0.242\n",
      "\n",
      "Fitting: learning rate = 0.35, regularization strength = 1e-05, learning rate decay = 0.9, hidden_layer_size = 200\n",
      "Resulting accuracy is 0.315\n",
      "\n",
      "Fitting: learning rate = 0.35, regularization strength = 1e-05, learning rate decay = 0.9, hidden_layer_size = 300\n",
      "Resulting accuracy is 0.406\n",
      "\n",
      "Fitting: learning rate = 0.35, regularization strength = 1e-05, learning rate decay = 0.99, hidden_layer_size = 100\n"
     ]
    },
    {
     "name": "stderr",
     "output_type": "stream",
     "text": [
      "/home/iorana/Desktop/storytelling/ML/education/dlcourse_ai/assignments/assignment2/layers.py:39: RuntimeWarning: overflow encountered in subtract\n",
      "  probs = predictions - np.max(predictions, axis=1)[:, np.newaxis]\n",
      "/home/iorana/Desktop/storytelling/ML/education/dlcourse_ai/assignments/assignment2/layers.py:39: RuntimeWarning: invalid value encountered in subtract\n",
      "  probs = predictions - np.max(predictions, axis=1)[:, np.newaxis]\n",
      "/home/iorana/Desktop/storytelling/ML/education/dlcourse_ai/assignments/assignment2/model.py:60: RuntimeWarning: overflow encountered in double_scalars\n",
      "  loss_reg += np.sum(param.value**2)\n",
      "/home/iorana/Desktop/storytelling/ML/education/dlcourse_ai/assignments/assignment2/layers.py:135: RuntimeWarning: invalid value encountered in greater\n",
      "  d_result = np.multiply(d_out, X > 0)\n"
     ]
    },
    {
     "name": "stdout",
     "output_type": "stream",
     "text": [
      "Resulting accuracy is 0.049\n",
      "\n",
      "Fitting: learning rate = 0.35, regularization strength = 1e-05, learning rate decay = 0.99, hidden_layer_size = 200\n"
     ]
    },
    {
     "name": "stderr",
     "output_type": "stream",
     "text": [
      "/home/iorana/anaconda3/envs/torch/lib/python3.7/site-packages/numpy/core/fromnumeric.py:86: RuntimeWarning: overflow encountered in reduce\n",
      "  return ufunc.reduce(obj, axis, dtype, out, **passkwargs)\n"
     ]
    },
    {
     "name": "stdout",
     "output_type": "stream",
     "text": [
      "Resulting accuracy is 0.049\n",
      "\n",
      "Fitting: learning rate = 0.35, regularization strength = 1e-05, learning rate decay = 0.99, hidden_layer_size = 300\n",
      "Resulting accuracy is 0.049\n",
      "\n",
      "Fitting: learning rate = 0.35, regularization strength = 1e-05, learning rate decay = 0.999, hidden_layer_size = 100\n",
      "Resulting accuracy is 0.049\n",
      "\n",
      "Fitting: learning rate = 0.35, regularization strength = 1e-05, learning rate decay = 0.999, hidden_layer_size = 200\n",
      "Resulting accuracy is 0.049\n",
      "\n",
      "Fitting: learning rate = 0.35, regularization strength = 1e-05, learning rate decay = 0.999, hidden_layer_size = 300\n",
      "Resulting accuracy is 0.049\n",
      "\n",
      "Fitting: learning rate = 0.35, regularization strength = 0.0001, learning rate decay = 0.9, hidden_layer_size = 100\n",
      "Resulting accuracy is 0.219\n",
      "\n",
      "Fitting: learning rate = 0.35, regularization strength = 0.0001, learning rate decay = 0.9, hidden_layer_size = 200\n",
      "Resulting accuracy is 0.309\n",
      "\n",
      "Fitting: learning rate = 0.35, regularization strength = 0.0001, learning rate decay = 0.9, hidden_layer_size = 300\n",
      "Resulting accuracy is 0.425\n",
      "\n",
      "Fitting: learning rate = 0.35, regularization strength = 0.0001, learning rate decay = 0.99, hidden_layer_size = 100\n",
      "Resulting accuracy is 0.049\n",
      "\n",
      "Fitting: learning rate = 0.35, regularization strength = 0.0001, learning rate decay = 0.99, hidden_layer_size = 200\n",
      "Resulting accuracy is 0.049\n",
      "\n",
      "Fitting: learning rate = 0.35, regularization strength = 0.0001, learning rate decay = 0.99, hidden_layer_size = 300\n",
      "Resulting accuracy is 0.049\n",
      "\n",
      "Fitting: learning rate = 0.35, regularization strength = 0.0001, learning rate decay = 0.999, hidden_layer_size = 100\n",
      "Resulting accuracy is 0.049\n",
      "\n",
      "Fitting: learning rate = 0.35, regularization strength = 0.0001, learning rate decay = 0.999, hidden_layer_size = 200\n",
      "Resulting accuracy is 0.049\n",
      "\n",
      "Fitting: learning rate = 0.35, regularization strength = 0.0001, learning rate decay = 0.999, hidden_layer_size = 300\n",
      "Resulting accuracy is 0.049\n",
      "\n",
      "best validation accuracy achieved: 0.789000\n"
     ]
    }
   ],
   "source": [
    "# Let's train the best one-hidden-layer network we can\n",
    "\n",
    "learning_rates = [1e-2, 1e-1, 0.35]\n",
    "reg_strength = [1e-5, 1e-4]\n",
    "learning_rate_decay = [0.9, 0.99, 0.999]\n",
    "hidden_layer_size = [100, 200, 300]\n",
    "num_epochs = 200\n",
    "batch_size = 64\n",
    "best_classifier = None\n",
    "best_val_accuracy = -1\n",
    "coef_to_val_accuracy = {}\n",
    "\n",
    "loss_history = []\n",
    "train_history = []\n",
    "val_history = []\n",
    "\n",
    "\n",
    "# TODO find the best hyperparameters to train the network\n",
    "# Don't hesitate to add new values to the arrays above, perform experiments, use any tricks you want\n",
    "# You should expect to get to at least 40% of valudation accuracy\n",
    "# Save loss/train/history of the best classifier to the variables above\n",
    "dataset = Dataset(train_X, train_y, val_X, val_y)\n",
    "for lr in learning_rates:\n",
    "    for reg in reg_strength:\n",
    "        for lrd in learning_rate_decay:\n",
    "            for hidden_layer_s in hidden_layer_size:\n",
    "                model = TwoLayerNet(n_input = train_X.shape[1], n_output = 10, hidden_layer_size = hidden_layer_s, reg = reg)\n",
    "                trainer = Trainer(model,\n",
    "                                  dataset,\n",
    "                                  MomentumSGD(),\n",
    "                                  num_epochs = num_epochs,\n",
    "                                  batch_size = batch_size,\n",
    "                                  learning_rate=lr,\n",
    "                                  learning_rate_decay=lrd)\n",
    "                print(f'Fitting: learning rate = {lr}, regularization strength = {reg}, learning rate decay = {lrd}, hidden_layer_size = {hidden_layer_s}' )\n",
    "\n",
    "                loss_history, train_history, val_history = trainer.fit()\n",
    "                coef_to_val_accuracy[(lr, reg, hidden_layer_s)] = val_history[-1]\n",
    "                print(f'Resulting accuracy is {val_history[-1]}\\n')\n",
    "                if val_history[-1] > best_val_accuracy:\n",
    "                    best_classifier = model\n",
    "                    best_val_accuracy = val_history[-1]\n",
    "print('best validation accuracy achieved: %f' % best_val_accuracy)"
   ]
  },
  {
   "cell_type": "code",
   "execution_count": 18,
   "metadata": {},
   "outputs": [
    {
     "data": {
      "text/plain": [
       "[<matplotlib.lines.Line2D at 0x7fe2b41ea810>]"
      ]
     },
     "execution_count": 18,
     "metadata": {},
     "output_type": "execute_result"
    },
    {
     "data": {
      "image/png": "[encoded data removed]",
      "text/plain": [
       "<Figure size 1080x504 with 2 Axes>"
      ]
     },
     "metadata": {
      "needs_background": "light"
     },
     "output_type": "display_data"
    }
   ],
   "source": [
    "plt.figure(figsize=(15, 7))\n",
    "plt.subplot(211)\n",
    "plt.title(\"Loss\")\n",
    "plt.plot(loss_history)\n",
    "plt.subplot(212)\n",
    "plt.title(\"Train/validation accuracy\")\n",
    "plt.plot(train_history)\n",
    "plt.plot(val_history)"
   ]
  },
  {
   "cell_type": "markdown",
   "metadata": {},
   "source": [
    "# Как обычно, посмотрим, как наша лучшая модель работает на тестовых данных"
   ]
  },
  {
   "cell_type": "code",
   "execution_count": 19,
   "metadata": {},
   "outputs": [
    {
     "name": "stdout",
     "output_type": "stream",
     "text": [
      "Neural net test set accuracy: 0.750000\n"
     ]
    }
   ],
   "source": [
    "test_pred = best_classifier.predict(test_X)\n",
    "test_accuracy = multiclass_accuracy(test_pred, test_y)\n",
    "print('Neural net test set accuracy: %f' % (test_accuracy, ))"
   ]
  }
 ],
 "metadata": {
  "kernelspec": {
   "display_name": "Python 3",
   "language": "python",
   "name": "python3"
  },
  "language_info": {
   "codemirror_mode": {
    "name": "ipython",
    "version": 3
   },
   "file_extension": ".py",
   "mimetype": "text/x-python",
   "name": "python",
   "nbconvert_exporter": "python",
   "pygments_lexer": "ipython3",
   "version": "3.7.6"
  }
 },
 "nbformat": 4,
 "nbformat_minor": 2
}
